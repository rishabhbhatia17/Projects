{
 "cells": [
  {
   "cell_type": "markdown",
   "metadata": {
    "id": "VOSEymCY3HP_"
   },
   "source": [
    "# Project1_Classification_Group16_Dsouza_Bhatia\n"
   ]
  },
  {
   "cell_type": "markdown",
   "metadata": {
    "id": "Dv5QPaIcwhq7"
   },
   "source": [
    "# **Mobile-Phone-Price-Classification**\n",
    "It is a machine learning based project to solve the following problem \n",
    "\n",
    "https://www.kaggle.com/iabhishekofficial/mobile-price-classification\n",
    "\n",
    "###**Problem Description**\n",
    "\n",
    "Bob has started his own mobile company. He wants to give tough fight to big companies like Apple,Samsung etc.\n",
    "\n",
    "He does not know how to estimate price of mobiles his company creates. In this competitive mobile phone market you cannot simply assume things. To solve this problem he collects sales data of mobile phones of various companies.\n",
    "\n",
    "Bob wants to find out some relation between features of a mobile phone(eg:- RAM,Internal Memory etc) and its selling price. But he is not so good at Machine Learning. So he needs your help to solve this problem.\n",
    "\n",
    "Data Description\n",
    "The data has been divided into 2 groups : • Training Set (train.csv) • Test Set (test.csv) The training set should be used to build your machine learning models. For the training set we provide the outcome( also known as target or class label) for each mobile sales data point. The test set should be used to see how well your model performs on unseen data. For the test set we do not provide the outcome(target variable) for each mobile sales data point. For each data point in the test set use the model you trained to predict price range. The training set contains 2000 data points. Each data point has 20 features and one target variable.\n",
    "\n",
    "The test set contains 2000 data points. Each data point has 21 features.\n",
    "\n",
    "###**Feature name,\tFeature description,\tType**\n",
    "\n",
    "ID, ID,\tNumeric\n",
    "\n",
    "Battery_power,\tTotal energy a battery can store in mAh,\tNumeric\n",
    "\n",
    "Blue,\tHas bluetooth or not,\tBoolean\n",
    "\n",
    "Clock_speed,\tSpeed at which microprocessor executes instructions,\tNumeric\n",
    "\n",
    "Dual_sim,\tHas dual sim support or not,\tBoolean\n",
    "\n",
    "FC, Front\tCamera mega pixels,\tNumeric\n",
    "\n",
    "Four_g,\tHas 4G or not,\tBoolean\n",
    "\n",
    "Int_memory,\tInternal Memory in Gigabytes,\tNumeric\n",
    "\n",
    "M_dep,\tMobile Depth in cm,\tNumeric\n",
    "\n",
    "Mobile_wt,\tWeight of mobile phone,\tNumeric\n",
    "\n",
    "N_cores,\tNumber of cores of processor,\tNumeric\n",
    "\n",
    "PC,\tPrimary Camera mega pixels,\tNumeric\n",
    "\n",
    "PX_height,\tPixel Resolution Height,\tNumeric\n",
    "\n",
    "PX_width,\tPixel Resolution Width,\tNumeric\n",
    "\n",
    "RAM,\tRandom Access Memory in Megabytes,\tNumeric\n",
    "\n",
    "SC_h,\tScreen Height of mobile in cm,\tNumeric\n",
    "\n",
    "SC_w,\tScreen Width of mobile in cm,\tNumeric\n",
    "\n",
    "Talk_time,\tLongest time that battery will last by a call,\tNumeric\n",
    "\n",
    "Three_g,\tHas 3G or not,\tBoolean\n",
    "\n",
    "Touch_screen,\tHas touch screen or not,\tBoolean\n",
    "\n",
    "Wifi,\tHas wifi or not,\tNumeric\n",
    "\n",
    "Price Range, Price range of mobile phones, Numeric"
   ]
  },
  {
   "cell_type": "markdown",
   "metadata": {
    "id": "SbrQ2U7n0ffD"
   },
   "source": [
    "# **DATA PREPROCESSING**"
   ]
  },
  {
   "cell_type": "markdown",
   "metadata": {
    "id": "Z7Tve4ce0-Zk"
   },
   "source": [
    "##Library Imports"
   ]
  },
  {
   "cell_type": "code",
   "execution_count": 83,
   "metadata": {
    "id": "Yy9y9tKKW9zw"
   },
   "outputs": [],
   "source": [
    "import numpy as np\n",
    "import pandas as pd\n",
    "import matplotlib.pyplot as plt\n",
    "import seaborn as sns\n",
    "import warnings\n",
    "warnings.filterwarnings('ignore')"
   ]
  },
  {
   "cell_type": "code",
   "execution_count": 84,
   "metadata": {
    "colab": {
     "base_uri": "https://localhost:8080/",
     "height": 73,
     "resources": {
      "http://localhost:8080/nbextensions/google.colab/files.js": {
       "data": "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",
       "headers": [
        [
         "content-type",
         "application/javascript"
        ]
       ],
       "ok": true,
       "status": 200,
       "status_text": ""
      }
     }
    },
    "id": "daHdRYw68dnW",
    "outputId": "b953dc32-ab7e-44c8-8221-bd134236971f"
   },
   "outputs": [
    {
     "data": {
      "text/html": [
       "\n",
       "     <input type=\"file\" id=\"files-648054b5-03fc-4346-a6b1-e8df76de6a0c\" name=\"files[]\" multiple disabled\n",
       "        style=\"border:none\" />\n",
       "     <output id=\"result-648054b5-03fc-4346-a6b1-e8df76de6a0c\">\n",
       "      Upload widget is only available when the cell has been executed in the\n",
       "      current browser session. Please rerun this cell to enable.\n",
       "      </output>\n",
       "      <script src=\"/nbextensions/google.colab/files.js\"></script> "
      ],
      "text/plain": [
       "<IPython.core.display.HTML object>"
      ]
     },
     "metadata": {
      "tags": []
     },
     "output_type": "display_data"
    },
    {
     "name": "stdout",
     "output_type": "stream",
     "text": [
      "Saving Mobile.csv to Mobile (1).csv\n"
     ]
    }
   ],
   "source": [
    "from google.colab import files\n",
    "uploaded = files.upload()"
   ]
  },
  {
   "cell_type": "markdown",
   "metadata": {
    "id": "O3RyQXCS1V09"
   },
   "source": [
    "## Reading the data into a pandas dataframe"
   ]
  },
  {
   "cell_type": "code",
   "execution_count": 86,
   "metadata": {
    "id": "4PtxN07vY__F"
   },
   "outputs": [],
   "source": [
    "import io\n",
    "data = pd.read_csv(io.BytesIO(uploaded['Mobile.csv']))"
   ]
  },
  {
   "cell_type": "code",
   "execution_count": 87,
   "metadata": {
    "colab": {
     "base_uri": "https://localhost:8080/",
     "height": 67
    },
    "id": "6PTgF0XLW9z5",
    "outputId": "6c34e0b5-c981-4cf9-c61b-40984dc67434"
   },
   "outputs": [
    {
     "name": "stdout",
     "output_type": "stream",
     "text": [
      "The dataset has 2000 rows\n",
      "The dataset has 21 columns\n",
      "(2000, 21)\n"
     ]
    }
   ],
   "source": [
    "print(\"The dataset has {} rows\" .format(data.shape[0]))\n",
    "print(\"The dataset has {} columns\" .format(data.shape[1]))\n",
    "print(data.shape)"
   ]
  },
  {
   "cell_type": "code",
   "execution_count": 88,
   "metadata": {
    "colab": {
     "base_uri": "https://localhost:8080/",
     "height": 386
    },
    "id": "iDAKZxFgW9z8",
    "outputId": "b2ffd433-cfc6-4666-e454-31c99c8442f2"
   },
   "outputs": [
    {
     "data": {
      "text/plain": [
       "battery_power    float64\n",
       "blue               int64\n",
       "clock_speed      float64\n",
       "dual_sim         float64\n",
       "fc               float64\n",
       "four_g             int64\n",
       "int_memory       float64\n",
       "m_dep            float64\n",
       "mobile_wt        float64\n",
       "n_cores          float64\n",
       "pc               float64\n",
       "px_height        float64\n",
       "px_width         float64\n",
       "ram                int64\n",
       "sc_h             float64\n",
       "sc_w               int64\n",
       "talk_time        float64\n",
       "three_g          float64\n",
       "touch_screen     float64\n",
       "wifi             float64\n",
       "price_range        int64\n",
       "dtype: object"
      ]
     },
     "execution_count": 88,
     "metadata": {
      "tags": []
     },
     "output_type": "execute_result"
    }
   ],
   "source": [
    "data.dtypes"
   ]
  },
  {
   "cell_type": "code",
   "execution_count": 89,
   "metadata": {
    "colab": {
     "base_uri": "https://localhost:8080/",
     "height": 304
    },
    "id": "jqKS17wBW90A",
    "outputId": "e5e81301-b69c-4f83-9924-b2544847dd5c"
   },
   "outputs": [
    {
     "data": {
      "text/html": [
       "<div>\n",
       "<style scoped>\n",
       "    .dataframe tbody tr th:only-of-type {\n",
       "        vertical-align: middle;\n",
       "    }\n",
       "\n",
       "    .dataframe tbody tr th {\n",
       "        vertical-align: top;\n",
       "    }\n",
       "\n",
       "    .dataframe thead th {\n",
       "        text-align: right;\n",
       "    }\n",
       "</style>\n",
       "<table border=\"1\" class=\"dataframe\">\n",
       "  <thead>\n",
       "    <tr style=\"text-align: right;\">\n",
       "      <th></th>\n",
       "      <th>battery_power</th>\n",
       "      <th>blue</th>\n",
       "      <th>clock_speed</th>\n",
       "      <th>dual_sim</th>\n",
       "      <th>fc</th>\n",
       "      <th>four_g</th>\n",
       "      <th>int_memory</th>\n",
       "      <th>m_dep</th>\n",
       "      <th>mobile_wt</th>\n",
       "      <th>n_cores</th>\n",
       "      <th>pc</th>\n",
       "      <th>px_height</th>\n",
       "      <th>px_width</th>\n",
       "      <th>ram</th>\n",
       "      <th>sc_h</th>\n",
       "      <th>sc_w</th>\n",
       "      <th>talk_time</th>\n",
       "      <th>three_g</th>\n",
       "      <th>touch_screen</th>\n",
       "      <th>wifi</th>\n",
       "      <th>price_range</th>\n",
       "    </tr>\n",
       "  </thead>\n",
       "  <tbody>\n",
       "    <tr>\n",
       "      <th>count</th>\n",
       "      <td>1821.000000</td>\n",
       "      <td>2000.0000</td>\n",
       "      <td>1895.000000</td>\n",
       "      <td>1879.000000</td>\n",
       "      <td>1875.000000</td>\n",
       "      <td>2000.000000</td>\n",
       "      <td>1757.000000</td>\n",
       "      <td>2000.000000</td>\n",
       "      <td>1835.000000</td>\n",
       "      <td>1829.000000</td>\n",
       "      <td>1970.000000</td>\n",
       "      <td>1964.000000</td>\n",
       "      <td>1961.000000</td>\n",
       "      <td>2000.000000</td>\n",
       "      <td>1817.000000</td>\n",
       "      <td>2000.000000</td>\n",
       "      <td>1952.000000</td>\n",
       "      <td>1881.000000</td>\n",
       "      <td>1862.000000</td>\n",
       "      <td>1813.000000</td>\n",
       "      <td>2000.000000</td>\n",
       "    </tr>\n",
       "    <tr>\n",
       "      <th>mean</th>\n",
       "      <td>1239.704558</td>\n",
       "      <td>0.4950</td>\n",
       "      <td>1.491029</td>\n",
       "      <td>0.509313</td>\n",
       "      <td>4.302400</td>\n",
       "      <td>0.521500</td>\n",
       "      <td>31.069437</td>\n",
       "      <td>0.501750</td>\n",
       "      <td>139.481199</td>\n",
       "      <td>4.523237</td>\n",
       "      <td>9.908122</td>\n",
       "      <td>644.596232</td>\n",
       "      <td>1253.007649</td>\n",
       "      <td>2124.213000</td>\n",
       "      <td>12.290589</td>\n",
       "      <td>5.767000</td>\n",
       "      <td>11.113730</td>\n",
       "      <td>0.761829</td>\n",
       "      <td>0.505371</td>\n",
       "      <td>0.511859</td>\n",
       "      <td>1.500000</td>\n",
       "    </tr>\n",
       "    <tr>\n",
       "      <th>std</th>\n",
       "      <td>441.164967</td>\n",
       "      <td>0.5001</td>\n",
       "      <td>0.810330</td>\n",
       "      <td>0.500046</td>\n",
       "      <td>4.327787</td>\n",
       "      <td>0.499662</td>\n",
       "      <td>17.908645</td>\n",
       "      <td>0.288416</td>\n",
       "      <td>35.331211</td>\n",
       "      <td>2.295255</td>\n",
       "      <td>6.068860</td>\n",
       "      <td>443.948014</td>\n",
       "      <td>432.361987</td>\n",
       "      <td>1084.732044</td>\n",
       "      <td>4.221077</td>\n",
       "      <td>4.356398</td>\n",
       "      <td>5.454568</td>\n",
       "      <td>0.426078</td>\n",
       "      <td>0.500105</td>\n",
       "      <td>0.499997</td>\n",
       "      <td>1.118314</td>\n",
       "    </tr>\n",
       "    <tr>\n",
       "      <th>min</th>\n",
       "      <td>501.000000</td>\n",
       "      <td>0.0000</td>\n",
       "      <td>0.500000</td>\n",
       "      <td>0.000000</td>\n",
       "      <td>0.000000</td>\n",
       "      <td>0.000000</td>\n",
       "      <td>2.000000</td>\n",
       "      <td>0.100000</td>\n",
       "      <td>80.000000</td>\n",
       "      <td>1.000000</td>\n",
       "      <td>0.000000</td>\n",
       "      <td>0.000000</td>\n",
       "      <td>500.000000</td>\n",
       "      <td>256.000000</td>\n",
       "      <td>5.000000</td>\n",
       "      <td>0.000000</td>\n",
       "      <td>2.000000</td>\n",
       "      <td>0.000000</td>\n",
       "      <td>0.000000</td>\n",
       "      <td>0.000000</td>\n",
       "      <td>0.000000</td>\n",
       "    </tr>\n",
       "    <tr>\n",
       "      <th>25%</th>\n",
       "      <td>851.000000</td>\n",
       "      <td>0.0000</td>\n",
       "      <td>0.600000</td>\n",
       "      <td>0.000000</td>\n",
       "      <td>1.000000</td>\n",
       "      <td>0.000000</td>\n",
       "      <td>15.000000</td>\n",
       "      <td>0.200000</td>\n",
       "      <td>108.500000</td>\n",
       "      <td>3.000000</td>\n",
       "      <td>5.000000</td>\n",
       "      <td>281.750000</td>\n",
       "      <td>876.000000</td>\n",
       "      <td>1207.500000</td>\n",
       "      <td>9.000000</td>\n",
       "      <td>2.000000</td>\n",
       "      <td>6.750000</td>\n",
       "      <td>1.000000</td>\n",
       "      <td>0.000000</td>\n",
       "      <td>0.000000</td>\n",
       "      <td>0.750000</td>\n",
       "    </tr>\n",
       "    <tr>\n",
       "      <th>50%</th>\n",
       "      <td>1230.000000</td>\n",
       "      <td>0.0000</td>\n",
       "      <td>1.400000</td>\n",
       "      <td>1.000000</td>\n",
       "      <td>3.000000</td>\n",
       "      <td>1.000000</td>\n",
       "      <td>31.000000</td>\n",
       "      <td>0.500000</td>\n",
       "      <td>139.000000</td>\n",
       "      <td>4.000000</td>\n",
       "      <td>10.000000</td>\n",
       "      <td>564.000000</td>\n",
       "      <td>1248.000000</td>\n",
       "      <td>2146.500000</td>\n",
       "      <td>12.000000</td>\n",
       "      <td>5.000000</td>\n",
       "      <td>11.000000</td>\n",
       "      <td>1.000000</td>\n",
       "      <td>1.000000</td>\n",
       "      <td>1.000000</td>\n",
       "      <td>1.500000</td>\n",
       "    </tr>\n",
       "    <tr>\n",
       "      <th>75%</th>\n",
       "      <td>1617.000000</td>\n",
       "      <td>1.0000</td>\n",
       "      <td>2.200000</td>\n",
       "      <td>1.000000</td>\n",
       "      <td>7.000000</td>\n",
       "      <td>1.000000</td>\n",
       "      <td>45.000000</td>\n",
       "      <td>0.800000</td>\n",
       "      <td>169.000000</td>\n",
       "      <td>7.000000</td>\n",
       "      <td>15.000000</td>\n",
       "      <td>946.250000</td>\n",
       "      <td>1634.000000</td>\n",
       "      <td>3064.500000</td>\n",
       "      <td>16.000000</td>\n",
       "      <td>9.000000</td>\n",
       "      <td>16.000000</td>\n",
       "      <td>1.000000</td>\n",
       "      <td>1.000000</td>\n",
       "      <td>1.000000</td>\n",
       "      <td>2.250000</td>\n",
       "    </tr>\n",
       "    <tr>\n",
       "      <th>max</th>\n",
       "      <td>1998.000000</td>\n",
       "      <td>1.0000</td>\n",
       "      <td>3.000000</td>\n",
       "      <td>1.000000</td>\n",
       "      <td>19.000000</td>\n",
       "      <td>1.000000</td>\n",
       "      <td>64.000000</td>\n",
       "      <td>1.000000</td>\n",
       "      <td>200.000000</td>\n",
       "      <td>8.000000</td>\n",
       "      <td>20.000000</td>\n",
       "      <td>1960.000000</td>\n",
       "      <td>1998.000000</td>\n",
       "      <td>3998.000000</td>\n",
       "      <td>19.000000</td>\n",
       "      <td>18.000000</td>\n",
       "      <td>20.000000</td>\n",
       "      <td>1.000000</td>\n",
       "      <td>1.000000</td>\n",
       "      <td>1.000000</td>\n",
       "      <td>3.000000</td>\n",
       "    </tr>\n",
       "  </tbody>\n",
       "</table>\n",
       "</div>"
      ],
      "text/plain": [
       "       battery_power       blue  ...         wifi  price_range\n",
       "count    1821.000000  2000.0000  ...  1813.000000  2000.000000\n",
       "mean     1239.704558     0.4950  ...     0.511859     1.500000\n",
       "std       441.164967     0.5001  ...     0.499997     1.118314\n",
       "min       501.000000     0.0000  ...     0.000000     0.000000\n",
       "25%       851.000000     0.0000  ...     0.000000     0.750000\n",
       "50%      1230.000000     0.0000  ...     1.000000     1.500000\n",
       "75%      1617.000000     1.0000  ...     1.000000     2.250000\n",
       "max      1998.000000     1.0000  ...     1.000000     3.000000\n",
       "\n",
       "[8 rows x 21 columns]"
      ]
     },
     "execution_count": 89,
     "metadata": {
      "tags": []
     },
     "output_type": "execute_result"
    }
   ],
   "source": [
    "data.describe()"
   ]
  },
  {
   "cell_type": "markdown",
   "metadata": {
    "id": "V9NK5Rlk1h4f"
   },
   "source": [
    "## Data Transformation"
   ]
  },
  {
   "cell_type": "code",
   "execution_count": 90,
   "metadata": {
    "colab": {
     "base_uri": "https://localhost:8080/",
     "height": 101
    },
    "id": "L92JDZCQW90E",
    "outputId": "48667dbd-e841-4a4d-b105-e90765479429"
   },
   "outputs": [
    {
     "data": {
      "text/plain": [
       "Index(['battery_power', 'blue', 'clock_speed', 'dual_sim', 'fc', 'four_g',\n",
       "       'int_memory', 'm_dep', 'mobile_wt', 'n_cores', 'pc', 'px_height',\n",
       "       'px_width', 'ram', 'sc_h', 'sc_w', 'talk_time', 'three_g',\n",
       "       'touch_screen', 'wifi', 'price_range'],\n",
       "      dtype='object')"
      ]
     },
     "execution_count": 90,
     "metadata": {
      "tags": []
     },
     "output_type": "execute_result"
    }
   ],
   "source": [
    "data.columns"
   ]
  },
  {
   "cell_type": "code",
   "execution_count": 91,
   "metadata": {
    "id": "G3wNJpejW90H"
   },
   "outputs": [],
   "source": [
    "percent_missing = data.isnull().sum() * 100 / len(data)\n",
    "missing_value_df = pd.DataFrame({'column_name': data.columns,\n",
    "                                 'percent_missing': percent_missing})"
   ]
  },
  {
   "cell_type": "markdown",
   "metadata": {
    "id": "R0rZV_PH1tQI"
   },
   "source": [
    "###Checking for missing values in the dataset"
   ]
  },
  {
   "cell_type": "code",
   "execution_count": 92,
   "metadata": {
    "colab": {
     "base_uri": "https://localhost:8080/",
     "height": 386
    },
    "id": "Y-F2_OxsW90L",
    "outputId": "226c91da-b1dd-42e8-b1c5-545cdc57f87a"
   },
   "outputs": [
    {
     "data": {
      "text/plain": [
       "battery_power    179\n",
       "blue               0\n",
       "clock_speed      105\n",
       "dual_sim         121\n",
       "fc               125\n",
       "four_g             0\n",
       "int_memory       243\n",
       "m_dep              0\n",
       "mobile_wt        165\n",
       "n_cores          171\n",
       "pc                30\n",
       "px_height         36\n",
       "px_width          39\n",
       "ram                0\n",
       "sc_h             183\n",
       "sc_w               0\n",
       "talk_time         48\n",
       "three_g          119\n",
       "touch_screen     138\n",
       "wifi             187\n",
       "price_range        0\n",
       "dtype: int64"
      ]
     },
     "execution_count": 92,
     "metadata": {
      "tags": []
     },
     "output_type": "execute_result"
    }
   ],
   "source": [
    "data.isnull().sum()"
   ]
  },
  {
   "cell_type": "markdown",
   "metadata": {
    "id": "xonZ0Lnnz6jM"
   },
   "source": [
    "We can see that the data has multiple missing data points."
   ]
  },
  {
   "cell_type": "code",
   "execution_count": 93,
   "metadata": {
    "colab": {
     "base_uri": "https://localhost:8080/",
     "height": 386
    },
    "id": "YMYcUul_W90N",
    "outputId": "dc247c1d-1b2a-4177-bcc2-b63eeb508a8c"
   },
   "outputs": [
    {
     "data": {
      "text/plain": [
       "battery_power     8.95\n",
       "blue              0.00\n",
       "clock_speed       5.25\n",
       "dual_sim          6.05\n",
       "fc                6.25\n",
       "four_g            0.00\n",
       "int_memory       12.15\n",
       "m_dep             0.00\n",
       "mobile_wt         8.25\n",
       "n_cores           8.55\n",
       "pc                1.50\n",
       "px_height         1.80\n",
       "px_width          1.95\n",
       "ram               0.00\n",
       "sc_h              9.15\n",
       "sc_w              0.00\n",
       "talk_time         2.40\n",
       "three_g           5.95\n",
       "touch_screen      6.90\n",
       "wifi              9.35\n",
       "price_range       0.00\n",
       "dtype: float64"
      ]
     },
     "execution_count": 93,
     "metadata": {
      "tags": []
     },
     "output_type": "execute_result"
    }
   ],
   "source": [
    "percent_missing"
   ]
  },
  {
   "cell_type": "markdown",
   "metadata": {
    "id": "LZXeDeQu0Ky2"
   },
   "source": [
    "The data has the above mentioned percentage of missing data per column."
   ]
  },
  {
   "cell_type": "markdown",
   "metadata": {
    "id": "FgBf0y3x2Afs"
   },
   "source": [
    "The dataset satisfies the condition of having NULLS to work with. However, these are important columns and cannot be dropped completely. As they are numerical, we will impute values into these fields.\n",
    "\n",
    "\n",
    "\n",
    "There are blank cells. Let's first fill the blank cells with NaN"
   ]
  },
  {
   "cell_type": "code",
   "execution_count": 94,
   "metadata": {
    "id": "Y5ZkB3x1W90Q"
   },
   "outputs": [],
   "source": [
    "data.replace(\" \", np.NaN, inplace = True)"
   ]
  },
  {
   "cell_type": "markdown",
   "metadata": {
    "id": "O6mi7nQO2Z2O"
   },
   "source": [
    "Imputing means into the NaN in each column that originally had blank cells (now filled with NaN)\n",
    "\n",
    "\n"
   ]
  },
  {
   "cell_type": "code",
   "execution_count": 95,
   "metadata": {
    "id": "bjTaknVNW90U"
   },
   "outputs": [],
   "source": [
    "data['battery_power'].fillna(data['battery_power'].mean(), inplace = True) \n",
    "data['clock_speed'].fillna(data['clock_speed'].mean(), inplace = True) \n",
    "data['dual_sim'].fillna(data['dual_sim'].mean(), inplace = True) \n",
    "data['fc'].fillna(data['fc'].mean(), inplace = True) \n",
    "data['int_memory'].fillna(data['int_memory'].mean(), inplace = True) \n",
    "data['mobile_wt'].fillna(data['mobile_wt'].mean(), inplace = True) \n",
    "data['n_cores'].fillna(data['n_cores'].mean(), inplace = True) \n",
    "data['pc'].fillna(data['pc'].mean(), inplace = True) \n",
    "data['px_height'].fillna(data['px_height'].mean(), inplace = True) \n",
    "data['px_width'].fillna(data['px_width'].mean(), inplace = True) \n",
    "data['sc_h'].fillna(data['sc_h'].mean(), inplace = True) \n",
    "data['talk_time'].fillna(data['talk_time'].mean(), inplace = True) \n",
    "data['three_g'].fillna(data['three_g'].mean(), inplace = True) \n",
    "data['touch_screen'].fillna(data['touch_screen'].mean(), inplace = True) \n",
    "data['wifi'].fillna(data['wifi'].mean(), inplace = True)"
   ]
  },
  {
   "cell_type": "code",
   "execution_count": 96,
   "metadata": {
    "colab": {
     "base_uri": "https://localhost:8080/",
     "height": 386
    },
    "id": "AefP5jHeW90W",
    "outputId": "78c3039a-240e-4065-dc32-f7d856ec713d"
   },
   "outputs": [
    {
     "data": {
      "text/plain": [
       "battery_power    0\n",
       "blue             0\n",
       "clock_speed      0\n",
       "dual_sim         0\n",
       "fc               0\n",
       "four_g           0\n",
       "int_memory       0\n",
       "m_dep            0\n",
       "mobile_wt        0\n",
       "n_cores          0\n",
       "pc               0\n",
       "px_height        0\n",
       "px_width         0\n",
       "ram              0\n",
       "sc_h             0\n",
       "sc_w             0\n",
       "talk_time        0\n",
       "three_g          0\n",
       "touch_screen     0\n",
       "wifi             0\n",
       "price_range      0\n",
       "dtype: int64"
      ]
     },
     "execution_count": 96,
     "metadata": {
      "tags": []
     },
     "output_type": "execute_result"
    }
   ],
   "source": [
    "data.isnull().sum()"
   ]
  },
  {
   "cell_type": "code",
   "execution_count": 97,
   "metadata": {
    "colab": {
     "base_uri": "https://localhost:8080/",
     "height": 304
    },
    "id": "C5mnQSdUW90Y",
    "outputId": "3bed8ed9-8452-4e18-815a-a2fda7a3fae7"
   },
   "outputs": [
    {
     "data": {
      "text/html": [
       "<div>\n",
       "<style scoped>\n",
       "    .dataframe tbody tr th:only-of-type {\n",
       "        vertical-align: middle;\n",
       "    }\n",
       "\n",
       "    .dataframe tbody tr th {\n",
       "        vertical-align: top;\n",
       "    }\n",
       "\n",
       "    .dataframe thead th {\n",
       "        text-align: right;\n",
       "    }\n",
       "</style>\n",
       "<table border=\"1\" class=\"dataframe\">\n",
       "  <thead>\n",
       "    <tr style=\"text-align: right;\">\n",
       "      <th></th>\n",
       "      <th>battery_power</th>\n",
       "      <th>blue</th>\n",
       "      <th>clock_speed</th>\n",
       "      <th>dual_sim</th>\n",
       "      <th>fc</th>\n",
       "      <th>four_g</th>\n",
       "      <th>int_memory</th>\n",
       "      <th>m_dep</th>\n",
       "      <th>mobile_wt</th>\n",
       "      <th>n_cores</th>\n",
       "      <th>pc</th>\n",
       "      <th>px_height</th>\n",
       "      <th>px_width</th>\n",
       "      <th>ram</th>\n",
       "      <th>sc_h</th>\n",
       "      <th>sc_w</th>\n",
       "      <th>talk_time</th>\n",
       "      <th>three_g</th>\n",
       "      <th>touch_screen</th>\n",
       "      <th>wifi</th>\n",
       "      <th>price_range</th>\n",
       "    </tr>\n",
       "  </thead>\n",
       "  <tbody>\n",
       "    <tr>\n",
       "      <th>count</th>\n",
       "      <td>2000.000000</td>\n",
       "      <td>2000.0000</td>\n",
       "      <td>2000.000000</td>\n",
       "      <td>2000.000000</td>\n",
       "      <td>2000.000000</td>\n",
       "      <td>2000.000000</td>\n",
       "      <td>2000.000000</td>\n",
       "      <td>2000.000000</td>\n",
       "      <td>2000.000000</td>\n",
       "      <td>2000.000000</td>\n",
       "      <td>2000.000000</td>\n",
       "      <td>2000.000000</td>\n",
       "      <td>2000.000000</td>\n",
       "      <td>2000.000000</td>\n",
       "      <td>2000.000000</td>\n",
       "      <td>2000.000000</td>\n",
       "      <td>2000.000000</td>\n",
       "      <td>2000.000000</td>\n",
       "      <td>2000.000000</td>\n",
       "      <td>2000.000000</td>\n",
       "      <td>2000.000000</td>\n",
       "    </tr>\n",
       "    <tr>\n",
       "      <th>mean</th>\n",
       "      <td>1239.704558</td>\n",
       "      <td>0.4950</td>\n",
       "      <td>1.491029</td>\n",
       "      <td>0.509313</td>\n",
       "      <td>4.302400</td>\n",
       "      <td>0.521500</td>\n",
       "      <td>31.069437</td>\n",
       "      <td>0.501750</td>\n",
       "      <td>139.481199</td>\n",
       "      <td>4.523237</td>\n",
       "      <td>9.908122</td>\n",
       "      <td>644.596232</td>\n",
       "      <td>1253.007649</td>\n",
       "      <td>2124.213000</td>\n",
       "      <td>12.290589</td>\n",
       "      <td>5.767000</td>\n",
       "      <td>11.113730</td>\n",
       "      <td>0.761829</td>\n",
       "      <td>0.505371</td>\n",
       "      <td>0.511859</td>\n",
       "      <td>1.500000</td>\n",
       "    </tr>\n",
       "    <tr>\n",
       "      <th>std</th>\n",
       "      <td>420.949807</td>\n",
       "      <td>0.5001</td>\n",
       "      <td>0.788762</td>\n",
       "      <td>0.484676</td>\n",
       "      <td>4.190292</td>\n",
       "      <td>0.499662</td>\n",
       "      <td>16.784893</td>\n",
       "      <td>0.288416</td>\n",
       "      <td>33.841671</td>\n",
       "      <td>2.194890</td>\n",
       "      <td>6.023149</td>\n",
       "      <td>439.932322</td>\n",
       "      <td>428.123575</td>\n",
       "      <td>1084.732044</td>\n",
       "      <td>4.023230</td>\n",
       "      <td>4.356398</td>\n",
       "      <td>5.388682</td>\n",
       "      <td>0.413201</td>\n",
       "      <td>0.482535</td>\n",
       "      <td>0.476037</td>\n",
       "      <td>1.118314</td>\n",
       "    </tr>\n",
       "    <tr>\n",
       "      <th>min</th>\n",
       "      <td>501.000000</td>\n",
       "      <td>0.0000</td>\n",
       "      <td>0.500000</td>\n",
       "      <td>0.000000</td>\n",
       "      <td>0.000000</td>\n",
       "      <td>0.000000</td>\n",
       "      <td>2.000000</td>\n",
       "      <td>0.100000</td>\n",
       "      <td>80.000000</td>\n",
       "      <td>1.000000</td>\n",
       "      <td>0.000000</td>\n",
       "      <td>0.000000</td>\n",
       "      <td>500.000000</td>\n",
       "      <td>256.000000</td>\n",
       "      <td>5.000000</td>\n",
       "      <td>0.000000</td>\n",
       "      <td>2.000000</td>\n",
       "      <td>0.000000</td>\n",
       "      <td>0.000000</td>\n",
       "      <td>0.000000</td>\n",
       "      <td>0.000000</td>\n",
       "    </tr>\n",
       "    <tr>\n",
       "      <th>25%</th>\n",
       "      <td>880.750000</td>\n",
       "      <td>0.0000</td>\n",
       "      <td>0.700000</td>\n",
       "      <td>0.000000</td>\n",
       "      <td>1.000000</td>\n",
       "      <td>0.000000</td>\n",
       "      <td>18.000000</td>\n",
       "      <td>0.200000</td>\n",
       "      <td>111.000000</td>\n",
       "      <td>3.000000</td>\n",
       "      <td>5.000000</td>\n",
       "      <td>286.000000</td>\n",
       "      <td>882.000000</td>\n",
       "      <td>1207.500000</td>\n",
       "      <td>9.000000</td>\n",
       "      <td>2.000000</td>\n",
       "      <td>7.000000</td>\n",
       "      <td>0.761829</td>\n",
       "      <td>0.000000</td>\n",
       "      <td>0.000000</td>\n",
       "      <td>0.750000</td>\n",
       "    </tr>\n",
       "    <tr>\n",
       "      <th>50%</th>\n",
       "      <td>1239.704558</td>\n",
       "      <td>0.0000</td>\n",
       "      <td>1.491029</td>\n",
       "      <td>0.509313</td>\n",
       "      <td>3.000000</td>\n",
       "      <td>1.000000</td>\n",
       "      <td>31.069437</td>\n",
       "      <td>0.500000</td>\n",
       "      <td>139.481199</td>\n",
       "      <td>4.523237</td>\n",
       "      <td>10.000000</td>\n",
       "      <td>577.500000</td>\n",
       "      <td>1253.007649</td>\n",
       "      <td>2146.500000</td>\n",
       "      <td>12.290589</td>\n",
       "      <td>5.000000</td>\n",
       "      <td>11.000000</td>\n",
       "      <td>1.000000</td>\n",
       "      <td>0.505371</td>\n",
       "      <td>0.511859</td>\n",
       "      <td>1.500000</td>\n",
       "    </tr>\n",
       "    <tr>\n",
       "      <th>75%</th>\n",
       "      <td>1583.000000</td>\n",
       "      <td>1.0000</td>\n",
       "      <td>2.100000</td>\n",
       "      <td>1.000000</td>\n",
       "      <td>7.000000</td>\n",
       "      <td>1.000000</td>\n",
       "      <td>43.000000</td>\n",
       "      <td>0.800000</td>\n",
       "      <td>166.250000</td>\n",
       "      <td>6.000000</td>\n",
       "      <td>15.000000</td>\n",
       "      <td>937.250000</td>\n",
       "      <td>1626.250000</td>\n",
       "      <td>3064.500000</td>\n",
       "      <td>16.000000</td>\n",
       "      <td>9.000000</td>\n",
       "      <td>16.000000</td>\n",
       "      <td>1.000000</td>\n",
       "      <td>1.000000</td>\n",
       "      <td>1.000000</td>\n",
       "      <td>2.250000</td>\n",
       "    </tr>\n",
       "    <tr>\n",
       "      <th>max</th>\n",
       "      <td>1998.000000</td>\n",
       "      <td>1.0000</td>\n",
       "      <td>3.000000</td>\n",
       "      <td>1.000000</td>\n",
       "      <td>19.000000</td>\n",
       "      <td>1.000000</td>\n",
       "      <td>64.000000</td>\n",
       "      <td>1.000000</td>\n",
       "      <td>200.000000</td>\n",
       "      <td>8.000000</td>\n",
       "      <td>20.000000</td>\n",
       "      <td>1960.000000</td>\n",
       "      <td>1998.000000</td>\n",
       "      <td>3998.000000</td>\n",
       "      <td>19.000000</td>\n",
       "      <td>18.000000</td>\n",
       "      <td>20.000000</td>\n",
       "      <td>1.000000</td>\n",
       "      <td>1.000000</td>\n",
       "      <td>1.000000</td>\n",
       "      <td>3.000000</td>\n",
       "    </tr>\n",
       "  </tbody>\n",
       "</table>\n",
       "</div>"
      ],
      "text/plain": [
       "       battery_power       blue  ...         wifi  price_range\n",
       "count    2000.000000  2000.0000  ...  2000.000000  2000.000000\n",
       "mean     1239.704558     0.4950  ...     0.511859     1.500000\n",
       "std       420.949807     0.5001  ...     0.476037     1.118314\n",
       "min       501.000000     0.0000  ...     0.000000     0.000000\n",
       "25%       880.750000     0.0000  ...     0.000000     0.750000\n",
       "50%      1239.704558     0.0000  ...     0.511859     1.500000\n",
       "75%      1583.000000     1.0000  ...     1.000000     2.250000\n",
       "max      1998.000000     1.0000  ...     1.000000     3.000000\n",
       "\n",
       "[8 rows x 21 columns]"
      ]
     },
     "execution_count": 97,
     "metadata": {
      "tags": []
     },
     "output_type": "execute_result"
    }
   ],
   "source": [
    "data.describe()"
   ]
  },
  {
   "cell_type": "markdown",
   "metadata": {
    "id": "WaPkJRjN2pZ_"
   },
   "source": [
    "## **EXPLORATORY DATA ANALYSIS**\n"
   ]
  },
  {
   "cell_type": "markdown",
   "metadata": {
    "id": "UYLrdoV525e-"
   },
   "source": [
    "<b>Importing visualization and plotting libraries</b>"
   ]
  },
  {
   "cell_type": "code",
   "execution_count": 98,
   "metadata": {
    "id": "55emPxR-W90a"
   },
   "outputs": [],
   "source": [
    "import seaborn as sb\n",
    "from pandas.plotting import scatter_matrix\n",
    "%matplotlib inline"
   ]
  },
  {
   "cell_type": "markdown",
   "metadata": {
    "id": "9Is4tsje35F4"
   },
   "source": [
    "### Correlation Matrix\n",
    "We develop a correlation matrix heatmap to see which of the variables are very highly correlated. Highly correlated variables causes 'Data Leakage' or Multicollinearity, which reduces the precision of the estimate coefficients, which weakens the statistical power of your regression model."
   ]
  },
  {
   "cell_type": "code",
   "execution_count": 99,
   "metadata": {
    "colab": {
     "base_uri": "https://localhost:8080/",
     "height": 783
    },
    "id": "GQmaep37W90e",
    "outputId": "c6e8c76c-8624-4578-acc1-0cc8bc02c1f0"
   },
   "outputs": [
    {
     "data": {
      "text/plain": [
       "<matplotlib.axes._subplots.AxesSubplot at 0x7f27bc3c9908>"
      ]
     },
     "execution_count": 99,
     "metadata": {
      "tags": []
     },
     "output_type": "execute_result"
    },
    {
     "data": {
      "image/png": "[encoded data removed]",
      "text/plain": [
       "<Figure size 864x864 with 2 Axes>"
      ]
     },
     "metadata": {
      "needs_background": "light",
      "tags": []
     },
     "output_type": "display_data"
    }
   ],
   "source": [
    "a= data.corr()\n",
    "fig=plt.figure(figsize=(12,12))\n",
    "sns.heatmap(a,annot= True,linewidths=3)"
   ]
  },
  {
   "cell_type": "markdown",
   "metadata": {
    "id": "sFSGJc8Q3s4j"
   },
   "source": [
    "## Identifying Outliers\n",
    "Outliers can skew the data and manipulate the final result. Hence, we check for outliers."
   ]
  },
  {
   "cell_type": "code",
   "execution_count": 100,
   "metadata": {
    "colab": {
     "base_uri": "https://localhost:8080/",
     "height": 1000
    },
    "id": "OTZ02Z4q40wk",
    "outputId": "8837c1ad-095d-499c-a17d-ff08e92fabd5"
   },
   "outputs": [
    {
     "data": {
      "image/png": "[encoded data removed]",
      "text/plain": [
       "<Figure size 1440x1800 with 21 Axes>"
      ]
     },
     "metadata": {
      "needs_background": "light",
      "tags": []
     },
     "output_type": "display_data"
    }
   ],
   "source": [
    "column_dict ={'battery_power':1, 'blue':2, 'clock_speed':3, 'dual_sim':4, 'fc':5,\n",
    "       'four_g':6, 'int_memory':7, 'm_dep':8, 'mobile_wt':9, 'n_cores':10,\n",
    "       'pc':11, 'px_height':12, 'px_width':13, 'ram':14, 'sc_h':15,\n",
    "       'sc_w':16, 'talk_time':17, 'three_g':18, 'touch_screen':19,\n",
    "       'wifi':20, 'price_range':21}\n",
    "\n",
    "plt.figure(figsize=(20,25))\n",
    "\n",
    "for feature,i in column_dict.items():\n",
    "                     plt.subplot(3,7,i)\n",
    "                     plt.boxplot(data[feature])\n",
    "                     plt.title(feature)\n",
    "\n",
    "plt.show()"
   ]
  },
  {
   "cell_type": "markdown",
   "metadata": {
    "id": "S0quslpE4EZR"
   },
   "source": [
    "Split the data into Train and Test set. Default for test is 0.25. We have set it to 0.2 to explore this parameter"
   ]
  },
  {
   "cell_type": "code",
   "execution_count": 101,
   "metadata": {
    "id": "u21vF2q2W90h"
   },
   "outputs": [],
   "source": [
    "from sklearn.model_selection import train_test_split\n",
    "from sklearn.preprocessing import MinMaxScaler,StandardScaler\n",
    "X = data.drop('price_range',axis=1)\n",
    "y = data['price_range']\n",
    "X_train_org, X_test_org, y_train, y_test = train_test_split(X, y, test_size = 0.20, random_state = 0)"
   ]
  },
  {
   "cell_type": "markdown",
   "metadata": {
    "id": "vEmhiD654NjO"
   },
   "source": [
    "### Scaling the dataset\n",
    "Standard Scaler removes the mean and scales the data to unit variance. StandardScaler() will transform each value in the column to range about the mean 0 and standard deviation 3, ie, each value will be normalised by subtracting the mean and dividing by standard deviation. Use StandardScaler if you know the data distribution is normal."
   ]
  },
  {
   "cell_type": "code",
   "execution_count": 102,
   "metadata": {
    "id": "QnXgSFDDW90j"
   },
   "outputs": [],
   "source": [
    "scaler = StandardScaler()\n",
    "X_train = scaler.fit_transform(X_train_org)\n",
    "X_test = scaler.transform(X_test_org)"
   ]
  },
  {
   "cell_type": "code",
   "execution_count": 103,
   "metadata": {
    "colab": {
     "base_uri": "https://localhost:8080/",
     "height": 422
    },
    "id": "0xmqDidoW90l",
    "outputId": "9af4f275-a625-435f-bba6-8cc6d1b42349"
   },
   "outputs": [
    {
     "data": {
      "text/html": [
       "<div>\n",
       "<style scoped>\n",
       "    .dataframe tbody tr th:only-of-type {\n",
       "        vertical-align: middle;\n",
       "    }\n",
       "\n",
       "    .dataframe tbody tr th {\n",
       "        vertical-align: top;\n",
       "    }\n",
       "\n",
       "    .dataframe thead th {\n",
       "        text-align: right;\n",
       "    }\n",
       "</style>\n",
       "<table border=\"1\" class=\"dataframe\">\n",
       "  <thead>\n",
       "    <tr style=\"text-align: right;\">\n",
       "      <th></th>\n",
       "      <th>0</th>\n",
       "      <th>1</th>\n",
       "      <th>2</th>\n",
       "      <th>3</th>\n",
       "      <th>4</th>\n",
       "      <th>5</th>\n",
       "      <th>6</th>\n",
       "      <th>7</th>\n",
       "      <th>8</th>\n",
       "      <th>9</th>\n",
       "      <th>10</th>\n",
       "      <th>11</th>\n",
       "      <th>12</th>\n",
       "      <th>13</th>\n",
       "      <th>14</th>\n",
       "      <th>15</th>\n",
       "      <th>16</th>\n",
       "      <th>17</th>\n",
       "      <th>18</th>\n",
       "      <th>19</th>\n",
       "    </tr>\n",
       "  </thead>\n",
       "  <tbody>\n",
       "    <tr>\n",
       "      <th>0</th>\n",
       "      <td>-0.780662</td>\n",
       "      <td>-0.981423</td>\n",
       "      <td>0.758584</td>\n",
       "      <td>-1.046443</td>\n",
       "      <td>-0.777738</td>\n",
       "      <td>-1.036932</td>\n",
       "      <td>0.778958</td>\n",
       "      <td>0.348367</td>\n",
       "      <td>-1.302653</td>\n",
       "      <td>0.218672</td>\n",
       "      <td>-1.297654</td>\n",
       "      <td>-1.122820</td>\n",
       "      <td>-0.753052</td>\n",
       "      <td>1.310290</td>\n",
       "      <td>0.911009</td>\n",
       "      <td>1.393192</td>\n",
       "      <td>-0.780816</td>\n",
       "      <td>0.577041</td>\n",
       "      <td>1.025187</td>\n",
       "      <td>1.016484</td>\n",
       "    </tr>\n",
       "    <tr>\n",
       "      <th>1</th>\n",
       "      <td>1.420814</td>\n",
       "      <td>-0.981423</td>\n",
       "      <td>-1.265459</td>\n",
       "      <td>1.014584</td>\n",
       "      <td>0.019372</td>\n",
       "      <td>-1.036932</td>\n",
       "      <td>0.180053</td>\n",
       "      <td>0.696733</td>\n",
       "      <td>0.090508</td>\n",
       "      <td>-1.605330</td>\n",
       "      <td>1.026427</td>\n",
       "      <td>-0.768745</td>\n",
       "      <td>0.663031</td>\n",
       "      <td>-0.952253</td>\n",
       "      <td>-0.017852</td>\n",
       "      <td>-1.325231</td>\n",
       "      <td>-0.219357</td>\n",
       "      <td>-1.842253</td>\n",
       "      <td>-1.047444</td>\n",
       "      <td>-1.084111</td>\n",
       "    </tr>\n",
       "    <tr>\n",
       "      <th>2</th>\n",
       "      <td>-1.227099</td>\n",
       "      <td>-0.981423</td>\n",
       "      <td>1.770606</td>\n",
       "      <td>-1.046443</td>\n",
       "      <td>0.670500</td>\n",
       "      <td>-1.036932</td>\n",
       "      <td>-1.496882</td>\n",
       "      <td>0.696733</td>\n",
       "      <td>-1.095161</td>\n",
       "      <td>0.674673</td>\n",
       "      <td>-0.301619</td>\n",
       "      <td>-0.556751</td>\n",
       "      <td>-0.284150</td>\n",
       "      <td>-1.172016</td>\n",
       "      <td>-0.841836</td>\n",
       "      <td>-1.098696</td>\n",
       "      <td>-1.716580</td>\n",
       "      <td>0.577041</td>\n",
       "      <td>-1.047444</td>\n",
       "      <td>-1.084111</td>\n",
       "    </tr>\n",
       "    <tr>\n",
       "      <th>3</th>\n",
       "      <td>-1.725502</td>\n",
       "      <td>-0.981423</td>\n",
       "      <td>-0.885951</td>\n",
       "      <td>-1.046443</td>\n",
       "      <td>0.670500</td>\n",
       "      <td>0.964384</td>\n",
       "      <td>0.659177</td>\n",
       "      <td>-0.696733</td>\n",
       "      <td>-1.332294</td>\n",
       "      <td>-1.605330</td>\n",
       "      <td>-0.301619</td>\n",
       "      <td>-1.382175</td>\n",
       "      <td>-1.653344</td>\n",
       "      <td>-1.337071</td>\n",
       "      <td>0.159789</td>\n",
       "      <td>1.393192</td>\n",
       "      <td>-0.780816</td>\n",
       "      <td>0.577041</td>\n",
       "      <td>-1.047444</td>\n",
       "      <td>-1.084111</td>\n",
       "    </tr>\n",
       "    <tr>\n",
       "      <th>4</th>\n",
       "      <td>1.623954</td>\n",
       "      <td>1.018929</td>\n",
       "      <td>0.252573</td>\n",
       "      <td>1.014584</td>\n",
       "      <td>-0.777738</td>\n",
       "      <td>0.964384</td>\n",
       "      <td>0.120162</td>\n",
       "      <td>-0.348367</td>\n",
       "      <td>0.015847</td>\n",
       "      <td>-0.693329</td>\n",
       "      <td>-1.297654</td>\n",
       "      <td>0.744533</td>\n",
       "      <td>-0.021548</td>\n",
       "      <td>0.355200</td>\n",
       "      <td>-1.593055</td>\n",
       "      <td>-1.098696</td>\n",
       "      <td>0.529254</td>\n",
       "      <td>0.577041</td>\n",
       "      <td>-1.047444</td>\n",
       "      <td>-0.008903</td>\n",
       "    </tr>\n",
       "    <tr>\n",
       "      <th>...</th>\n",
       "      <td>...</td>\n",
       "      <td>...</td>\n",
       "      <td>...</td>\n",
       "      <td>...</td>\n",
       "      <td>...</td>\n",
       "      <td>...</td>\n",
       "      <td>...</td>\n",
       "      <td>...</td>\n",
       "      <td>...</td>\n",
       "      <td>...</td>\n",
       "      <td>...</td>\n",
       "      <td>...</td>\n",
       "      <td>...</td>\n",
       "      <td>...</td>\n",
       "      <td>...</td>\n",
       "      <td>...</td>\n",
       "      <td>...</td>\n",
       "      <td>...</td>\n",
       "      <td>...</td>\n",
       "      <td>...</td>\n",
       "    </tr>\n",
       "    <tr>\n",
       "      <th>1595</th>\n",
       "      <td>1.168069</td>\n",
       "      <td>1.018929</td>\n",
       "      <td>1.644103</td>\n",
       "      <td>-1.046443</td>\n",
       "      <td>-0.294992</td>\n",
       "      <td>0.964384</td>\n",
       "      <td>0.299834</td>\n",
       "      <td>1.741833</td>\n",
       "      <td>-0.591251</td>\n",
       "      <td>0.674673</td>\n",
       "      <td>1.690450</td>\n",
       "      <td>-0.665003</td>\n",
       "      <td>-1.723679</td>\n",
       "      <td>1.364072</td>\n",
       "      <td>1.161415</td>\n",
       "      <td>2.299333</td>\n",
       "      <td>-0.406510</td>\n",
       "      <td>0.577041</td>\n",
       "      <td>-1.047444</td>\n",
       "      <td>-1.084111</td>\n",
       "    </tr>\n",
       "    <tr>\n",
       "      <th>1596</th>\n",
       "      <td>-0.190138</td>\n",
       "      <td>-0.981423</td>\n",
       "      <td>-1.012454</td>\n",
       "      <td>1.014584</td>\n",
       "      <td>-0.777738</td>\n",
       "      <td>0.964384</td>\n",
       "      <td>-0.119400</td>\n",
       "      <td>0.696733</td>\n",
       "      <td>-0.472685</td>\n",
       "      <td>-1.149329</td>\n",
       "      <td>1.690450</td>\n",
       "      <td>-0.768745</td>\n",
       "      <td>1.251503</td>\n",
       "      <td>-0.521999</td>\n",
       "      <td>1.161415</td>\n",
       "      <td>0.713586</td>\n",
       "      <td>0.716407</td>\n",
       "      <td>0.577041</td>\n",
       "      <td>0.000003</td>\n",
       "      <td>1.016484</td>\n",
       "    </tr>\n",
       "    <tr>\n",
       "      <th>1597</th>\n",
       "      <td>0.002857</td>\n",
       "      <td>-0.981423</td>\n",
       "      <td>0.505579</td>\n",
       "      <td>-1.046443</td>\n",
       "      <td>-0.777738</td>\n",
       "      <td>0.964384</td>\n",
       "      <td>0.004540</td>\n",
       "      <td>1.045100</td>\n",
       "      <td>1.750444</td>\n",
       "      <td>-1.605330</td>\n",
       "      <td>-1.297654</td>\n",
       "      <td>-0.854445</td>\n",
       "      <td>1.035808</td>\n",
       "      <td>0.411764</td>\n",
       "      <td>-0.591430</td>\n",
       "      <td>0.487051</td>\n",
       "      <td>-1.342274</td>\n",
       "      <td>0.577041</td>\n",
       "      <td>1.025187</td>\n",
       "      <td>-1.084111</td>\n",
       "    </tr>\n",
       "    <tr>\n",
       "      <th>1598</th>\n",
       "      <td>0.256299</td>\n",
       "      <td>-0.981423</td>\n",
       "      <td>-0.011781</td>\n",
       "      <td>-1.046443</td>\n",
       "      <td>0.187754</td>\n",
       "      <td>-1.036932</td>\n",
       "      <td>0.778958</td>\n",
       "      <td>0.348367</td>\n",
       "      <td>-0.205909</td>\n",
       "      <td>-1.605330</td>\n",
       "      <td>0.694416</td>\n",
       "      <td>-0.491348</td>\n",
       "      <td>-0.692095</td>\n",
       "      <td>0.351491</td>\n",
       "      <td>1.411822</td>\n",
       "      <td>-0.872161</td>\n",
       "      <td>-0.032205</td>\n",
       "      <td>0.577041</td>\n",
       "      <td>-1.047444</td>\n",
       "      <td>1.016484</td>\n",
       "    </tr>\n",
       "    <tr>\n",
       "      <th>1599</th>\n",
       "      <td>-1.257806</td>\n",
       "      <td>-0.981423</td>\n",
       "      <td>-1.265459</td>\n",
       "      <td>-1.046443</td>\n",
       "      <td>2.118739</td>\n",
       "      <td>0.964384</td>\n",
       "      <td>0.000381</td>\n",
       "      <td>-1.393466</td>\n",
       "      <td>-0.917310</td>\n",
       "      <td>-0.693329</td>\n",
       "      <td>1.524444</td>\n",
       "      <td>-0.245525</td>\n",
       "      <td>-0.760086</td>\n",
       "      <td>0.291218</td>\n",
       "      <td>-1.092243</td>\n",
       "      <td>0.260516</td>\n",
       "      <td>-1.342274</td>\n",
       "      <td>0.577041</td>\n",
       "      <td>-1.047444</td>\n",
       "      <td>1.016484</td>\n",
       "    </tr>\n",
       "  </tbody>\n",
       "</table>\n",
       "<p>1600 rows × 20 columns</p>\n",
       "</div>"
      ],
      "text/plain": [
       "            0         1         2   ...        17        18        19\n",
       "0    -0.780662 -0.981423  0.758584  ...  0.577041  1.025187  1.016484\n",
       "1     1.420814 -0.981423 -1.265459  ... -1.842253 -1.047444 -1.084111\n",
       "2    -1.227099 -0.981423  1.770606  ...  0.577041 -1.047444 -1.084111\n",
       "3    -1.725502 -0.981423 -0.885951  ...  0.577041 -1.047444 -1.084111\n",
       "4     1.623954  1.018929  0.252573  ...  0.577041 -1.047444 -0.008903\n",
       "...        ...       ...       ...  ...       ...       ...       ...\n",
       "1595  1.168069  1.018929  1.644103  ...  0.577041 -1.047444 -1.084111\n",
       "1596 -0.190138 -0.981423 -1.012454  ...  0.577041  0.000003  1.016484\n",
       "1597  0.002857 -0.981423  0.505579  ...  0.577041  1.025187 -1.084111\n",
       "1598  0.256299 -0.981423 -0.011781  ...  0.577041 -1.047444  1.016484\n",
       "1599 -1.257806 -0.981423 -1.265459  ...  0.577041 -1.047444  1.016484\n",
       "\n",
       "[1600 rows x 20 columns]"
      ]
     },
     "execution_count": 103,
     "metadata": {
      "tags": []
     },
     "output_type": "execute_result"
    }
   ],
   "source": [
    "pd.DataFrame(X_train)"
   ]
  },
  {
   "cell_type": "code",
   "execution_count": 104,
   "metadata": {
    "colab": {
     "base_uri": "https://localhost:8080/",
     "height": 422
    },
    "id": "zMblq1f9W90o",
    "outputId": "a1891d3e-df8b-43ba-85d8-50a52613e307"
   },
   "outputs": [
    {
     "data": {
      "text/html": [
       "<div>\n",
       "<style scoped>\n",
       "    .dataframe tbody tr th:only-of-type {\n",
       "        vertical-align: middle;\n",
       "    }\n",
       "\n",
       "    .dataframe tbody tr th {\n",
       "        vertical-align: top;\n",
       "    }\n",
       "\n",
       "    .dataframe thead th {\n",
       "        text-align: right;\n",
       "    }\n",
       "</style>\n",
       "<table border=\"1\" class=\"dataframe\">\n",
       "  <thead>\n",
       "    <tr style=\"text-align: right;\">\n",
       "      <th></th>\n",
       "      <th>0</th>\n",
       "      <th>1</th>\n",
       "      <th>2</th>\n",
       "      <th>3</th>\n",
       "      <th>4</th>\n",
       "      <th>5</th>\n",
       "      <th>6</th>\n",
       "      <th>7</th>\n",
       "      <th>8</th>\n",
       "      <th>9</th>\n",
       "      <th>10</th>\n",
       "      <th>11</th>\n",
       "      <th>12</th>\n",
       "      <th>13</th>\n",
       "      <th>14</th>\n",
       "      <th>15</th>\n",
       "      <th>16</th>\n",
       "      <th>17</th>\n",
       "      <th>18</th>\n",
       "      <th>19</th>\n",
       "    </tr>\n",
       "  </thead>\n",
       "  <tbody>\n",
       "    <tr>\n",
       "      <th>0</th>\n",
       "      <td>0.509044</td>\n",
       "      <td>1.018929</td>\n",
       "      <td>-1.265459</td>\n",
       "      <td>1.014584</td>\n",
       "      <td>-0.777738</td>\n",
       "      <td>-1.036932</td>\n",
       "      <td>0.180053</td>\n",
       "      <td>0.696733</td>\n",
       "      <td>0.015847</td>\n",
       "      <td>-0.237328</td>\n",
       "      <td>-1.131648</td>\n",
       "      <td>-0.906316</td>\n",
       "      <td>-0.537357</td>\n",
       "      <td>1.218490</td>\n",
       "      <td>-1.342649</td>\n",
       "      <td>-0.192555</td>\n",
       "      <td>-1.155121</td>\n",
       "      <td>0.000835</td>\n",
       "      <td>1.025187</td>\n",
       "      <td>-1.084111</td>\n",
       "    </tr>\n",
       "    <tr>\n",
       "      <th>1</th>\n",
       "      <td>-0.346036</td>\n",
       "      <td>1.018929</td>\n",
       "      <td>-1.265459</td>\n",
       "      <td>1.014584</td>\n",
       "      <td>1.394620</td>\n",
       "      <td>-1.036932</td>\n",
       "      <td>-1.197429</td>\n",
       "      <td>0.000000</td>\n",
       "      <td>0.831551</td>\n",
       "      <td>-0.693329</td>\n",
       "      <td>0.694416</td>\n",
       "      <td>-0.414669</td>\n",
       "      <td>-1.620520</td>\n",
       "      <td>-1.268453</td>\n",
       "      <td>0.410196</td>\n",
       "      <td>-0.419090</td>\n",
       "      <td>-0.032205</td>\n",
       "      <td>-1.842253</td>\n",
       "      <td>1.025187</td>\n",
       "      <td>-1.084111</td>\n",
       "    </tr>\n",
       "    <tr>\n",
       "      <th>2</th>\n",
       "      <td>-0.414537</td>\n",
       "      <td>-0.981423</td>\n",
       "      <td>0.632082</td>\n",
       "      <td>-1.046443</td>\n",
       "      <td>-1.019111</td>\n",
       "      <td>-1.036932</td>\n",
       "      <td>-0.239181</td>\n",
       "      <td>-1.045100</td>\n",
       "      <td>-1.569428</td>\n",
       "      <td>0.001268</td>\n",
       "      <td>-0.467625</td>\n",
       "      <td>-1.016823</td>\n",
       "      <td>-1.594731</td>\n",
       "      <td>0.522109</td>\n",
       "      <td>-0.090617</td>\n",
       "      <td>-0.192555</td>\n",
       "      <td>1.465018</td>\n",
       "      <td>0.000835</td>\n",
       "      <td>-1.047444</td>\n",
       "      <td>-1.084111</td>\n",
       "    </tr>\n",
       "    <tr>\n",
       "      <th>3</th>\n",
       "      <td>0.178350</td>\n",
       "      <td>1.018929</td>\n",
       "      <td>0.885087</td>\n",
       "      <td>-1.046443</td>\n",
       "      <td>-1.019111</td>\n",
       "      <td>0.964384</td>\n",
       "      <td>0.539396</td>\n",
       "      <td>1.045100</td>\n",
       "      <td>-0.680177</td>\n",
       "      <td>1.130673</td>\n",
       "      <td>-1.463659</td>\n",
       "      <td>-0.730405</td>\n",
       "      <td>1.396862</td>\n",
       "      <td>0.860563</td>\n",
       "      <td>-0.841836</td>\n",
       "      <td>0.487051</td>\n",
       "      <td>1.090712</td>\n",
       "      <td>0.577041</td>\n",
       "      <td>1.025187</td>\n",
       "      <td>1.016484</td>\n",
       "    </tr>\n",
       "    <tr>\n",
       "      <th>4</th>\n",
       "      <td>0.002857</td>\n",
       "      <td>-0.981423</td>\n",
       "      <td>0.758584</td>\n",
       "      <td>1.014584</td>\n",
       "      <td>3.325604</td>\n",
       "      <td>0.964384</td>\n",
       "      <td>0.004540</td>\n",
       "      <td>0.000000</td>\n",
       "      <td>1.691161</td>\n",
       "      <td>1.130673</td>\n",
       "      <td>1.690450</td>\n",
       "      <td>0.676875</td>\n",
       "      <td>1.087387</td>\n",
       "      <td>-1.299053</td>\n",
       "      <td>0.410196</td>\n",
       "      <td>-0.192555</td>\n",
       "      <td>-0.010920</td>\n",
       "      <td>0.577041</td>\n",
       "      <td>1.025187</td>\n",
       "      <td>1.016484</td>\n",
       "    </tr>\n",
       "    <tr>\n",
       "      <th>...</th>\n",
       "      <td>...</td>\n",
       "      <td>...</td>\n",
       "      <td>...</td>\n",
       "      <td>...</td>\n",
       "      <td>...</td>\n",
       "      <td>...</td>\n",
       "      <td>...</td>\n",
       "      <td>...</td>\n",
       "      <td>...</td>\n",
       "      <td>...</td>\n",
       "      <td>...</td>\n",
       "      <td>...</td>\n",
       "      <td>...</td>\n",
       "      <td>...</td>\n",
       "      <td>...</td>\n",
       "      <td>...</td>\n",
       "      <td>...</td>\n",
       "      <td>...</td>\n",
       "      <td>...</td>\n",
       "      <td>...</td>\n",
       "    </tr>\n",
       "    <tr>\n",
       "      <th>395</th>\n",
       "      <td>-0.669644</td>\n",
       "      <td>-0.981423</td>\n",
       "      <td>-1.265459</td>\n",
       "      <td>1.014584</td>\n",
       "      <td>-0.053619</td>\n",
       "      <td>-1.036932</td>\n",
       "      <td>0.719067</td>\n",
       "      <td>1.393466</td>\n",
       "      <td>0.120150</td>\n",
       "      <td>0.218672</td>\n",
       "      <td>-0.301619</td>\n",
       "      <td>1.344432</td>\n",
       "      <td>0.583318</td>\n",
       "      <td>-0.623999</td>\n",
       "      <td>-0.090617</td>\n",
       "      <td>0.713586</td>\n",
       "      <td>-0.406510</td>\n",
       "      <td>0.577041</td>\n",
       "      <td>1.025187</td>\n",
       "      <td>1.016484</td>\n",
       "    </tr>\n",
       "    <tr>\n",
       "      <th>396</th>\n",
       "      <td>-1.014510</td>\n",
       "      <td>-0.981423</td>\n",
       "      <td>-0.885951</td>\n",
       "      <td>-1.046443</td>\n",
       "      <td>1.394620</td>\n",
       "      <td>-1.036932</td>\n",
       "      <td>-0.598524</td>\n",
       "      <td>1.393466</td>\n",
       "      <td>0.015847</td>\n",
       "      <td>1.130673</td>\n",
       "      <td>1.524444</td>\n",
       "      <td>1.806760</td>\n",
       "      <td>1.087387</td>\n",
       "      <td>-0.770508</td>\n",
       "      <td>1.411822</td>\n",
       "      <td>0.260516</td>\n",
       "      <td>-1.529427</td>\n",
       "      <td>0.000835</td>\n",
       "      <td>-1.047444</td>\n",
       "      <td>-1.084111</td>\n",
       "    </tr>\n",
       "    <tr>\n",
       "      <th>397</th>\n",
       "      <td>-0.823180</td>\n",
       "      <td>1.018929</td>\n",
       "      <td>0.885087</td>\n",
       "      <td>1.014584</td>\n",
       "      <td>-0.053619</td>\n",
       "      <td>-1.036932</td>\n",
       "      <td>0.778958</td>\n",
       "      <td>0.000000</td>\n",
       "      <td>1.750444</td>\n",
       "      <td>1.586674</td>\n",
       "      <td>0.528410</td>\n",
       "      <td>0.952017</td>\n",
       "      <td>1.432030</td>\n",
       "      <td>-1.255471</td>\n",
       "      <td>-1.342649</td>\n",
       "      <td>-0.645626</td>\n",
       "      <td>-1.529427</td>\n",
       "      <td>-1.842253</td>\n",
       "      <td>-1.047444</td>\n",
       "      <td>-1.084111</td>\n",
       "    </tr>\n",
       "    <tr>\n",
       "      <th>398</th>\n",
       "      <td>-1.394808</td>\n",
       "      <td>-0.981423</td>\n",
       "      <td>0.505579</td>\n",
       "      <td>0.003266</td>\n",
       "      <td>-0.053619</td>\n",
       "      <td>-1.036932</td>\n",
       "      <td>-1.377101</td>\n",
       "      <td>1.741833</td>\n",
       "      <td>-1.421220</td>\n",
       "      <td>0.218672</td>\n",
       "      <td>1.524444</td>\n",
       "      <td>0.376926</td>\n",
       "      <td>1.722749</td>\n",
       "      <td>0.821618</td>\n",
       "      <td>-1.092243</td>\n",
       "      <td>0.260516</td>\n",
       "      <td>-1.342274</td>\n",
       "      <td>-1.842253</td>\n",
       "      <td>-1.047444</td>\n",
       "      <td>1.016484</td>\n",
       "    </tr>\n",
       "    <tr>\n",
       "      <th>399</th>\n",
       "      <td>0.121659</td>\n",
       "      <td>-0.981423</td>\n",
       "      <td>-1.265459</td>\n",
       "      <td>-1.046443</td>\n",
       "      <td>-1.019111</td>\n",
       "      <td>-1.036932</td>\n",
       "      <td>-1.676553</td>\n",
       "      <td>-1.393466</td>\n",
       "      <td>0.120150</td>\n",
       "      <td>0.674673</td>\n",
       "      <td>-0.965642</td>\n",
       "      <td>-0.116975</td>\n",
       "      <td>-0.359175</td>\n",
       "      <td>-0.826144</td>\n",
       "      <td>-0.841836</td>\n",
       "      <td>0.487051</td>\n",
       "      <td>0.716407</td>\n",
       "      <td>-1.842253</td>\n",
       "      <td>1.025187</td>\n",
       "      <td>1.016484</td>\n",
       "    </tr>\n",
       "  </tbody>\n",
       "</table>\n",
       "<p>400 rows × 20 columns</p>\n",
       "</div>"
      ],
      "text/plain": [
       "           0         1         2   ...        17        18        19\n",
       "0    0.509044  1.018929 -1.265459  ...  0.000835  1.025187 -1.084111\n",
       "1   -0.346036  1.018929 -1.265459  ... -1.842253  1.025187 -1.084111\n",
       "2   -0.414537 -0.981423  0.632082  ...  0.000835 -1.047444 -1.084111\n",
       "3    0.178350  1.018929  0.885087  ...  0.577041  1.025187  1.016484\n",
       "4    0.002857 -0.981423  0.758584  ...  0.577041  1.025187  1.016484\n",
       "..        ...       ...       ...  ...       ...       ...       ...\n",
       "395 -0.669644 -0.981423 -1.265459  ...  0.577041  1.025187  1.016484\n",
       "396 -1.014510 -0.981423 -0.885951  ...  0.000835 -1.047444 -1.084111\n",
       "397 -0.823180  1.018929  0.885087  ... -1.842253 -1.047444 -1.084111\n",
       "398 -1.394808 -0.981423  0.505579  ... -1.842253 -1.047444  1.016484\n",
       "399  0.121659 -0.981423 -1.265459  ... -1.842253  1.025187  1.016484\n",
       "\n",
       "[400 rows x 20 columns]"
      ]
     },
     "execution_count": 104,
     "metadata": {
      "tags": []
     },
     "output_type": "execute_result"
    }
   ],
   "source": [
    "pd.DataFrame(X_test)"
   ]
  },
  {
   "cell_type": "markdown",
   "metadata": {
    "id": "Espm1st340tf"
   },
   "source": [
    "## Models and Model Evaluations\n"
   ]
  },
  {
   "cell_type": "markdown",
   "metadata": {
    "id": "b5Hq2TJR4-sy"
   },
   "source": [
    "### KNN Classifiers"
   ]
  },
  {
   "cell_type": "code",
   "execution_count": 105,
   "metadata": {
    "id": "ys50WfpWW90q"
   },
   "outputs": [],
   "source": [
    "from sklearn.neighbors import KNeighborsClassifier\n",
    "\n",
    "train_score_array = []\n",
    "test_score_array = []\n",
    "\n",
    "for k in range(1,50):\n",
    "    knn = KNeighborsClassifier(k)\n",
    "    knn.fit(X_train, y_train)\n",
    "    train_score_array.append(knn.score(X_train, y_train))\n",
    "    test_score_array.append(knn.score(X_test, y_test))"
   ]
  },
  {
   "cell_type": "markdown",
   "metadata": {
    "id": "3Mk8WkYp5262"
   },
   "source": [
    "### Plot for Train Score and Test Score for KNN Classifiers\n",
    "\n"
   ]
  },
  {
   "cell_type": "code",
   "execution_count": 106,
   "metadata": {
    "colab": {
     "base_uri": "https://localhost:8080/",
     "height": 352
    },
    "id": "wS9vz1UcW90s",
    "outputId": "ab2bcba8-4210-4c2c-ab57-35ac5beec928"
   },
   "outputs": [
    {
     "data": {
      "text/plain": [
       "<matplotlib.legend.Legend at 0x7f27b68c86a0>"
      ]
     },
     "execution_count": 106,
     "metadata": {
      "tags": []
     },
     "output_type": "execute_result"
    },
    {
     "data": {
      "image/png": "[encoded data removed]",
      "text/plain": [
       "<Figure size 1440x360 with 1 Axes>"
      ]
     },
     "metadata": {
      "needs_background": "light",
      "tags": []
     },
     "output_type": "display_data"
    }
   ],
   "source": [
    "x_axis = range(1,50)\n",
    "%matplotlib inline\n",
    "\n",
    "plt.subplots(figsize = (20,5))\n",
    "plt.plot(x_axis, train_score_array, label = 'Train Score', c = 'g')\n",
    "plt.plot(x_axis, test_score_array, label = 'Test Score', c='b')\n",
    "plt.xlabel('n_neighbors')\n",
    "plt.ylabel('Accuracy')\n",
    "plt.xticks(x_axis, np.arange(1,50))\n",
    "plt.grid()\n",
    "plt.legend()"
   ]
  },
  {
   "cell_type": "markdown",
   "metadata": {
    "id": "UIscJZ226CAw"
   },
   "source": [
    "### Finding Train Score, Test Score and R Square\n",
    "\n"
   ]
  },
  {
   "cell_type": "code",
   "execution_count": 107,
   "metadata": {
    "colab": {
     "base_uri": "https://localhost:8080/",
     "height": 67
    },
    "id": "MX4xe0hFW90u",
    "outputId": "012795c9-c3b3-4585-be98-664f4bcff00a"
   },
   "outputs": [
    {
     "name": "stdout",
     "output_type": "stream",
     "text": [
      "Train score: 0.6925\n",
      "Test score: 0.5150\n",
      "R Squared: 0.4087 \n"
     ]
    }
   ],
   "source": [
    "from sklearn.neighbors import KNeighborsClassifier\n",
    "from sklearn import metrics\n",
    "knn = KNeighborsClassifier()\n",
    "knn.fit(X_train, y_train)\n",
    "prediction = knn.predict(X_test)\n",
    "print('Train score: {:.4f}'.format(knn.score(X_train, y_train)))\n",
    "print('Test score: {:.4f}'.format(knn.score(X_test, y_test)))\n",
    "print(\"R Squared: {:.4f} \".format(metrics.r2_score(y_test, prediction)))"
   ]
  },
  {
   "cell_type": "markdown",
   "metadata": {
    "id": "AFyVIDdC5Njn"
   },
   "source": [
    "### Using Grid Search\n",
    "We the GridSearchCV to find the best hyperparameters(in KNN case k or number of nearest neighbours) for the model"
   ]
  },
  {
   "cell_type": "code",
   "execution_count": 108,
   "metadata": {
    "colab": {
     "base_uri": "https://localhost:8080/",
     "height": 67
    },
    "id": "xWGYgtueW90w",
    "outputId": "8cb0cc34-66a3-4bb0-b5c8-09d8ecd14f6c"
   },
   "outputs": [
    {
     "name": "stdout",
     "output_type": "stream",
     "text": [
      "Parameter grid:\n",
      "{'n_neighbors': range(1, 50), 'weights': ['distance', 'uniform'], 'p': [1, 2], 'n_jobs': [-1]}\n",
      "Best parameters: {'n_jobs': -1, 'n_neighbors': 47, 'p': 1, 'weights': 'distance'}\n"
     ]
    }
   ],
   "source": [
    "from sklearn.metrics import mean_squared_error\n",
    "param_grid_knn = {'n_neighbors':range(1,50), 'weights':['distance','uniform'],'p': [1,2], 'n_jobs':[-1]}\n",
    "print(\"Parameter grid:\\n{}\".format(param_grid_knn))\n",
    "\n",
    "from sklearn.model_selection import GridSearchCV\n",
    "grid_search_knn = GridSearchCV(estimator=knn, param_grid=param_grid_knn, return_train_score=True, cv=10)\n",
    "grid_search_knn.fit(X_train, y_train)\n",
    "prediction = grid_search_knn.predict(X_test)\n",
    "print(\"Best parameters: {}\".format(grid_search_knn.best_params_))"
   ]
  },
  {
   "cell_type": "markdown",
   "metadata": {
    "id": "pz0ur5AS6en2"
   },
   "source": [
    "Best Parameters for KNN Classifier using Grid Search : 'n_jobs': -1, 'n_neighbors': 47, 'p': 1, 'weights': 'distance'\n",
    "\n",
    "Fitting the best parameters we get:"
   ]
  },
  {
   "cell_type": "code",
   "execution_count": 109,
   "metadata": {
    "colab": {
     "base_uri": "https://localhost:8080/",
     "height": 84
    },
    "id": "ba9ThN0DW90y",
    "outputId": "a245b129-6953-4b9f-bada-368d2f80d323"
   },
   "outputs": [
    {
     "name": "stdout",
     "output_type": "stream",
     "text": [
      "Train score: 1.0000\n",
      "Test score: 0.6900\n",
      "R Squared: 0.7570 \n",
      "MSE:  0.3175\n"
     ]
    }
   ],
   "source": [
    "from sklearn.metrics import r2_score\n",
    "from sklearn.metrics import mean_squared_error\n",
    "knn= KNeighborsClassifier(n_neighbors =47 , weights = 'distance', p=1, n_jobs = -1)\n",
    "knn.fit(X_train, y_train)\n",
    "prediction = knn.predict(X_test)\n",
    "\n",
    "print('Train score: {:.4f}'.format(knn.score(X_train, y_train)))\n",
    "print('Test score: {:.4f}'.format(knn.score(X_test, y_test)))\n",
    "print(\"R Squared: {:.4f} \".format(metrics.r2_score(y_test, prediction)))\n",
    "print(\"MSE: \",metrics.mean_squared_error(y_test, prediction))"
   ]
  },
  {
   "cell_type": "code",
   "execution_count": 110,
   "metadata": {
    "colab": {
     "base_uri": "https://localhost:8080/",
     "height": 484
    },
    "id": "eS_gpjVFW901",
    "outputId": "b36af565-3293-4c86-d6f8-5f60947a7e3d"
   },
   "outputs": [
    {
     "name": "stdout",
     "output_type": "stream",
     "text": [
      "Best cross-validation score: 0.70\n"
     ]
    },
    {
     "data": {
      "text/html": [
       "<div>\n",
       "<style scoped>\n",
       "    .dataframe tbody tr th:only-of-type {\n",
       "        vertical-align: middle;\n",
       "    }\n",
       "\n",
       "    .dataframe tbody tr th {\n",
       "        vertical-align: top;\n",
       "    }\n",
       "\n",
       "    .dataframe thead th {\n",
       "        text-align: right;\n",
       "    }\n",
       "</style>\n",
       "<table border=\"1\" class=\"dataframe\">\n",
       "  <thead>\n",
       "    <tr style=\"text-align: right;\">\n",
       "      <th></th>\n",
       "      <th>mean_fit_time</th>\n",
       "      <th>std_fit_time</th>\n",
       "      <th>mean_score_time</th>\n",
       "      <th>std_score_time</th>\n",
       "      <th>param_n_jobs</th>\n",
       "      <th>param_n_neighbors</th>\n",
       "      <th>param_p</th>\n",
       "      <th>param_weights</th>\n",
       "      <th>params</th>\n",
       "      <th>split0_test_score</th>\n",
       "      <th>split1_test_score</th>\n",
       "      <th>split2_test_score</th>\n",
       "      <th>split3_test_score</th>\n",
       "      <th>split4_test_score</th>\n",
       "      <th>split5_test_score</th>\n",
       "      <th>split6_test_score</th>\n",
       "      <th>split7_test_score</th>\n",
       "      <th>split8_test_score</th>\n",
       "      <th>split9_test_score</th>\n",
       "      <th>mean_test_score</th>\n",
       "      <th>std_test_score</th>\n",
       "      <th>rank_test_score</th>\n",
       "      <th>split0_train_score</th>\n",
       "      <th>split1_train_score</th>\n",
       "      <th>split2_train_score</th>\n",
       "      <th>split3_train_score</th>\n",
       "      <th>split4_train_score</th>\n",
       "      <th>split5_train_score</th>\n",
       "      <th>split6_train_score</th>\n",
       "      <th>split7_train_score</th>\n",
       "      <th>split8_train_score</th>\n",
       "      <th>split9_train_score</th>\n",
       "      <th>mean_train_score</th>\n",
       "      <th>std_train_score</th>\n",
       "    </tr>\n",
       "  </thead>\n",
       "  <tbody>\n",
       "    <tr>\n",
       "      <th>191</th>\n",
       "      <td>0.002743</td>\n",
       "      <td>0.000192</td>\n",
       "      <td>0.018728</td>\n",
       "      <td>0.001812</td>\n",
       "      <td>-1</td>\n",
       "      <td>48</td>\n",
       "      <td>2</td>\n",
       "      <td>uniform</td>\n",
       "      <td>{'n_jobs': -1, 'n_neighbors': 48, 'p': 2, 'wei...</td>\n",
       "      <td>0.58750</td>\n",
       "      <td>0.64375</td>\n",
       "      <td>0.53750</td>\n",
       "      <td>0.61250</td>\n",
       "      <td>0.67500</td>\n",
       "      <td>0.63125</td>\n",
       "      <td>0.57500</td>\n",
       "      <td>0.54375</td>\n",
       "      <td>0.61250</td>\n",
       "      <td>0.65625</td>\n",
       "      <td>0.607500</td>\n",
       "      <td>0.043910</td>\n",
       "      <td>88</td>\n",
       "      <td>0.675694</td>\n",
       "      <td>0.665278</td>\n",
       "      <td>0.674306</td>\n",
       "      <td>0.673611</td>\n",
       "      <td>0.660417</td>\n",
       "      <td>0.668056</td>\n",
       "      <td>0.670833</td>\n",
       "      <td>0.686111</td>\n",
       "      <td>0.663889</td>\n",
       "      <td>0.668056</td>\n",
       "      <td>0.670625</td>\n",
       "      <td>0.006924</td>\n",
       "    </tr>\n",
       "    <tr>\n",
       "      <th>192</th>\n",
       "      <td>0.002887</td>\n",
       "      <td>0.000405</td>\n",
       "      <td>0.015448</td>\n",
       "      <td>0.001215</td>\n",
       "      <td>-1</td>\n",
       "      <td>49</td>\n",
       "      <td>1</td>\n",
       "      <td>distance</td>\n",
       "      <td>{'n_jobs': -1, 'n_neighbors': 49, 'p': 1, 'wei...</td>\n",
       "      <td>0.71250</td>\n",
       "      <td>0.67500</td>\n",
       "      <td>0.61250</td>\n",
       "      <td>0.69375</td>\n",
       "      <td>0.73750</td>\n",
       "      <td>0.70625</td>\n",
       "      <td>0.71875</td>\n",
       "      <td>0.66250</td>\n",
       "      <td>0.73125</td>\n",
       "      <td>0.73125</td>\n",
       "      <td>0.698125</td>\n",
       "      <td>0.036875</td>\n",
       "      <td>3</td>\n",
       "      <td>1.000000</td>\n",
       "      <td>1.000000</td>\n",
       "      <td>1.000000</td>\n",
       "      <td>1.000000</td>\n",
       "      <td>1.000000</td>\n",
       "      <td>1.000000</td>\n",
       "      <td>1.000000</td>\n",
       "      <td>1.000000</td>\n",
       "      <td>1.000000</td>\n",
       "      <td>1.000000</td>\n",
       "      <td>1.000000</td>\n",
       "      <td>0.000000</td>\n",
       "    </tr>\n",
       "    <tr>\n",
       "      <th>193</th>\n",
       "      <td>0.002773</td>\n",
       "      <td>0.000188</td>\n",
       "      <td>0.018344</td>\n",
       "      <td>0.001121</td>\n",
       "      <td>-1</td>\n",
       "      <td>49</td>\n",
       "      <td>1</td>\n",
       "      <td>uniform</td>\n",
       "      <td>{'n_jobs': -1, 'n_neighbors': 49, 'p': 1, 'wei...</td>\n",
       "      <td>0.70625</td>\n",
       "      <td>0.66875</td>\n",
       "      <td>0.61875</td>\n",
       "      <td>0.72500</td>\n",
       "      <td>0.73125</td>\n",
       "      <td>0.70000</td>\n",
       "      <td>0.68750</td>\n",
       "      <td>0.66250</td>\n",
       "      <td>0.72500</td>\n",
       "      <td>0.73125</td>\n",
       "      <td>0.695625</td>\n",
       "      <td>0.034916</td>\n",
       "      <td>6</td>\n",
       "      <td>0.745833</td>\n",
       "      <td>0.737500</td>\n",
       "      <td>0.753472</td>\n",
       "      <td>0.731944</td>\n",
       "      <td>0.740278</td>\n",
       "      <td>0.744444</td>\n",
       "      <td>0.731944</td>\n",
       "      <td>0.747917</td>\n",
       "      <td>0.742361</td>\n",
       "      <td>0.736111</td>\n",
       "      <td>0.741181</td>\n",
       "      <td>0.006639</td>\n",
       "    </tr>\n",
       "    <tr>\n",
       "      <th>194</th>\n",
       "      <td>0.002841</td>\n",
       "      <td>0.000290</td>\n",
       "      <td>0.015238</td>\n",
       "      <td>0.002438</td>\n",
       "      <td>-1</td>\n",
       "      <td>49</td>\n",
       "      <td>2</td>\n",
       "      <td>distance</td>\n",
       "      <td>{'n_jobs': -1, 'n_neighbors': 49, 'p': 2, 'wei...</td>\n",
       "      <td>0.59375</td>\n",
       "      <td>0.64375</td>\n",
       "      <td>0.53750</td>\n",
       "      <td>0.64375</td>\n",
       "      <td>0.68750</td>\n",
       "      <td>0.63125</td>\n",
       "      <td>0.60000</td>\n",
       "      <td>0.55000</td>\n",
       "      <td>0.61875</td>\n",
       "      <td>0.68125</td>\n",
       "      <td>0.618750</td>\n",
       "      <td>0.047269</td>\n",
       "      <td>64</td>\n",
       "      <td>1.000000</td>\n",
       "      <td>1.000000</td>\n",
       "      <td>1.000000</td>\n",
       "      <td>1.000000</td>\n",
       "      <td>1.000000</td>\n",
       "      <td>1.000000</td>\n",
       "      <td>1.000000</td>\n",
       "      <td>1.000000</td>\n",
       "      <td>1.000000</td>\n",
       "      <td>1.000000</td>\n",
       "      <td>1.000000</td>\n",
       "      <td>0.000000</td>\n",
       "    </tr>\n",
       "    <tr>\n",
       "      <th>195</th>\n",
       "      <td>0.002771</td>\n",
       "      <td>0.000363</td>\n",
       "      <td>0.017084</td>\n",
       "      <td>0.000569</td>\n",
       "      <td>-1</td>\n",
       "      <td>49</td>\n",
       "      <td>2</td>\n",
       "      <td>uniform</td>\n",
       "      <td>{'n_jobs': -1, 'n_neighbors': 49, 'p': 2, 'wei...</td>\n",
       "      <td>0.60000</td>\n",
       "      <td>0.65000</td>\n",
       "      <td>0.54375</td>\n",
       "      <td>0.61875</td>\n",
       "      <td>0.67500</td>\n",
       "      <td>0.61875</td>\n",
       "      <td>0.57500</td>\n",
       "      <td>0.56250</td>\n",
       "      <td>0.61875</td>\n",
       "      <td>0.64375</td>\n",
       "      <td>0.610625</td>\n",
       "      <td>0.038936</td>\n",
       "      <td>82</td>\n",
       "      <td>0.679167</td>\n",
       "      <td>0.664583</td>\n",
       "      <td>0.675000</td>\n",
       "      <td>0.679167</td>\n",
       "      <td>0.663889</td>\n",
       "      <td>0.666667</td>\n",
       "      <td>0.668750</td>\n",
       "      <td>0.682639</td>\n",
       "      <td>0.661806</td>\n",
       "      <td>0.669444</td>\n",
       "      <td>0.671111</td>\n",
       "      <td>0.006980</td>\n",
       "    </tr>\n",
       "  </tbody>\n",
       "</table>\n",
       "</div>"
      ],
      "text/plain": [
       "     mean_fit_time  std_fit_time  ...  mean_train_score  std_train_score\n",
       "191       0.002743      0.000192  ...          0.670625         0.006924\n",
       "192       0.002887      0.000405  ...          1.000000         0.000000\n",
       "193       0.002773      0.000188  ...          0.741181         0.006639\n",
       "194       0.002841      0.000290  ...          1.000000         0.000000\n",
       "195       0.002771      0.000363  ...          0.671111         0.006980\n",
       "\n",
       "[5 rows x 34 columns]"
      ]
     },
     "metadata": {
      "tags": []
     },
     "output_type": "display_data"
    }
   ],
   "source": [
    "print(\"Best cross-validation score: {:.2f}\".format(grid_search_knn.best_score_))\n",
    "results = pd.DataFrame(grid_search_knn.cv_results_)\n",
    "display(results.tail())"
   ]
  },
  {
   "cell_type": "markdown",
   "metadata": {
    "id": "3gdJqmLD623c"
   },
   "source": [
    "### Cross Validation\n",
    "Finding the average Training and Testing Score using Cross Validation"
   ]
  },
  {
   "cell_type": "code",
   "execution_count": 111,
   "metadata": {
    "colab": {
     "base_uri": "https://localhost:8080/",
     "height": 67
    },
    "id": "XLgX9SjBW903",
    "outputId": "95e2a616-efab-4d4b-d41f-da8429b23323"
   },
   "outputs": [
    {
     "name": "stdout",
     "output_type": "stream",
     "text": [
      "[0.70625 0.68125 0.6125  0.68125 0.73125 0.725   0.725   0.675   0.7625\n",
      " 0.7375 ]\n",
      "The average cross validated train score is: 0.7037\n"
     ]
    }
   ],
   "source": [
    "from sklearn.model_selection import cross_val_score\n",
    "train_cvscore = cross_val_score(knn, X_train, y_train, cv=10)\n",
    "print(train_cvscore)\n",
    "print(\"The average cross validated train score is: {:.4f}\".format(train_cvscore.mean()))"
   ]
  },
  {
   "cell_type": "code",
   "execution_count": 112,
   "metadata": {
    "colab": {
     "base_uri": "https://localhost:8080/",
     "height": 50
    },
    "id": "vMqmLFiLW905",
    "outputId": "22aeb5f4-0ace-488e-9170-d0397df75618"
   },
   "outputs": [
    {
     "name": "stdout",
     "output_type": "stream",
     "text": [
      "[0.75  0.575 0.65  0.725 0.7   0.575 0.7   0.525 0.625 0.7  ]\n",
      "The average cross validated test score is: 0.6525\n"
     ]
    }
   ],
   "source": [
    "test_cvscore = cross_val_score(knn, X_test, y_test, cv=10)\n",
    "print(test_cvscore)\n",
    "\n",
    "#Average Cross Validation Score for Train Set\n",
    "print(\"The average cross validated test score is: {:.4f}\".format(test_cvscore.mean()))"
   ]
  },
  {
   "cell_type": "code",
   "execution_count": 113,
   "metadata": {
    "colab": {
     "base_uri": "https://localhost:8080/",
     "height": 34
    },
    "id": "12XPQPGjW908",
    "outputId": "c6eb54ef-07e5-4b9a-b986-49a4bbfeb1ba"
   },
   "outputs": [
    {
     "data": {
      "text/plain": [
       "(array([], dtype=int64),)"
      ]
     },
     "execution_count": 113,
     "metadata": {
      "tags": []
     },
     "output_type": "execute_result"
    }
   ],
   "source": [
    "np.where(X.columns == 'price_range')"
   ]
  },
  {
   "cell_type": "markdown",
   "metadata": {
    "id": "14ZP1VOQ74IF"
   },
   "source": [
    "Using the best fit KNN regressor that we got above k=47, we were able to minimize the MSE and get a high R2 scpre of 0.757. Let's fit this chosen KNN regressor to the RAM"
   ]
  },
  {
   "cell_type": "code",
   "execution_count": 114,
   "metadata": {
    "colab": {
     "base_uri": "https://localhost:8080/",
     "height": 351
    },
    "id": "dcjUBW_LW90-",
    "outputId": "d0932612-d778-4759-d8db-4c67ac419130"
   },
   "outputs": [
    {
     "data": {
      "text/plain": [
       "Text(0.5, 0, 'RAM')"
      ]
     },
     "execution_count": 114,
     "metadata": {
      "tags": []
     },
     "output_type": "execute_result"
    },
    {
     "data": {
      "image/png": "[encoded data removed]",
      "text/plain": [
       "<Figure size 1440x360 with 1 Axes>"
      ]
     },
     "metadata": {
      "needs_background": "light",
      "tags": []
     },
     "output_type": "display_data"
    }
   ],
   "source": [
    "X_b = X_train[:50,13].reshape(-1,1)\n",
    "y_b = y_train[:50]\n",
    "\n",
    "knn = KNeighborsClassifier(n_neighbors =47 , weights = 'distance', p=1, n_jobs=-1)\n",
    "knn.fit(X_b, y_b)\n",
    "\n",
    "X_new=np.linspace(X_b.min(), X_b.max(), 50).reshape(50, 1)\n",
    "y_predict = knn.predict(X_new)\n",
    "\n",
    "plt.subplots(figsize = (20,5))\n",
    "plt.plot(X_new, y_predict, c = 'r')\n",
    "plt.scatter(X_b, y_b)\n",
    "plt.xlabel('RAM')"
   ]
  },
  {
   "cell_type": "markdown",
   "metadata": {
    "id": "KMrJzUD98Mg0"
   },
   "source": [
    "# Linear SVC"
   ]
  },
  {
   "cell_type": "code",
   "execution_count": 115,
   "metadata": {
    "colab": {
     "base_uri": "https://localhost:8080/",
     "height": 67
    },
    "id": "p1Ftt8U3W91A",
    "outputId": "b6933095-7715-478a-d2e3-26deeb70586e"
   },
   "outputs": [
    {
     "name": "stdout",
     "output_type": "stream",
     "text": [
      "Train score: 0.8494\n",
      "Test score: 0.8400\n",
      "R Square: 0.8775 \n"
     ]
    }
   ],
   "source": [
    "from sklearn.svm import LinearSVC\n",
    "\n",
    "linearsvc = LinearSVC(dual = False)\n",
    "linearsvc.fit(X_train,y_train)\n",
    "print('Train score: {:.4f}'.format(linearsvc.score(X_train, y_train)))\n",
    "print('Test score: {:.4f}'.format(linearsvc.score(X_test, y_test)))\n",
    "prediction1 = linearsvc.predict(X_test)\n",
    "print(\"R Square: {:.4f} \".format(metrics.r2_score(y_test,prediction1)))"
   ]
  },
  {
   "cell_type": "markdown",
   "metadata": {
    "id": "0o4V0Jii8VN-"
   },
   "source": [
    "### Using Grid Search\n",
    "We the GridSearchCV to find the best hyperparameters(in SVC case C & penalty)"
   ]
  },
  {
   "cell_type": "code",
   "execution_count": 116,
   "metadata": {
    "colab": {
     "base_uri": "https://localhost:8080/",
     "height": 34
    },
    "id": "QXGImQalW91C",
    "outputId": "f565015e-4d2d-4cb9-9fce-341eefa2d35b"
   },
   "outputs": [
    {
     "data": {
      "text/plain": [
       "{'C': 1, 'penalty': 'l1'}"
      ]
     },
     "execution_count": 116,
     "metadata": {
      "tags": []
     },
     "output_type": "execute_result"
    }
   ],
   "source": [
    "from sklearn.model_selection import GridSearchCV\n",
    "parameters = [{'C': [0.001, 0.01, 0.1, 1, 10, 100], 'penalty': ['l1','l2']}]\n",
    "grid_search = GridSearchCV(estimator = linearsvc,\n",
    "                           param_grid = parameters,\n",
    "                           scoring = 'accuracy')\n",
    "grid_search = grid_search.fit(X_train, y_train)\n",
    "grid_search.best_params_"
   ]
  },
  {
   "cell_type": "markdown",
   "metadata": {
    "id": "OQKSK8QH84or"
   },
   "source": [
    "We have found the best parameters, C=1 and penalty=l1 for the linear SVC model using Grid Search. Let us fit this into our Linear SVC model"
   ]
  },
  {
   "cell_type": "code",
   "execution_count": 117,
   "metadata": {
    "colab": {
     "base_uri": "https://localhost:8080/",
     "height": 84
    },
    "id": "bBswsJBfW91F",
    "outputId": "9f42d21f-7e79-4f87-e3a3-9e121079f45d"
   },
   "outputs": [
    {
     "name": "stdout",
     "output_type": "stream",
     "text": [
      "Train score: 0.8656\n",
      "Test score: 0.8475\n",
      "R Square: 0.8833 \n",
      "MSE: 0.1525\n"
     ]
    }
   ],
   "source": [
    "from sklearn.svm import LinearSVC\n",
    "\n",
    "linearsvc = LinearSVC(penalty = 'l1', C= 10, dual=False)\n",
    "linearsvc.fit(X_train,y_train)\n",
    "print('Train score: {:.4f}'.format(linearsvc.score(X_train, y_train)))\n",
    "print('Test score: {:.4f}'.format(linearsvc.score(X_test, y_test)))\n",
    "prediction2 = linearsvc.predict(X_test)\n",
    "print(\"R Square: {:.4f} \".format(metrics.r2_score(y_test,prediction2)))\n",
    "print(\"MSE:\",mean_squared_error(y_test, prediction2))"
   ]
  },
  {
   "cell_type": "markdown",
   "metadata": {
    "id": "YggjiHrR9xWd"
   },
   "source": [
    "The scores after fitting our model are:\n",
    "Train score: 0.8656,\n",
    "Test score: 0.8475,\n",
    "R Square: 0.8833 \n",
    "\n",
    "\n",
    "Now, Checking Cross Validation scores\n"
   ]
  },
  {
   "cell_type": "code",
   "execution_count": 118,
   "metadata": {
    "colab": {
     "base_uri": "https://localhost:8080/",
     "height": 50
    },
    "id": "AF_xtHaQW91I",
    "outputId": "75b20637-5eaa-4530-a390-abd82e1c906c"
   },
   "outputs": [
    {
     "name": "stdout",
     "output_type": "stream",
     "text": [
      "Avg Train Score: 0.8363\n",
      "Avg Test Score: 0.8000\n"
     ]
    }
   ],
   "source": [
    "from sklearn.model_selection import cross_val_score\n",
    "train_score_list = cross_val_score(linearsvc,X_train,y_train,cv=5)\n",
    "test_score_list = cross_val_score(linearsvc,X_test,y_test,cv=5)\n",
    "print(\"Avg Train Score: %.4f\"%train_score_list.mean())\n",
    "print(\"Avg Test Score: %.4f\"%test_score_list.mean())"
   ]
  },
  {
   "cell_type": "markdown",
   "metadata": {
    "id": "gS2KTDLU-w3K"
   },
   "source": [
    "Average Train Score after cross validation is 0.8363\n",
    "Average Test Score after cross validation is 0.8363"
   ]
  },
  {
   "cell_type": "code",
   "execution_count": 119,
   "metadata": {
    "colab": {
     "base_uri": "https://localhost:8080/",
     "height": 623
    },
    "id": "5x8TXMegW91K",
    "outputId": "35992521-2a12-4aff-ee36-6acbba1e876a"
   },
   "outputs": [
    {
     "data": {
      "text/plain": [
       "Text(0, 0.5, 'Battery Power')"
      ]
     },
     "execution_count": 119,
     "metadata": {
      "tags": []
     },
     "output_type": "execute_result"
    },
    {
     "data": {
      "image/png": "[encoded data removed]",
      "text/plain": [
       "<Figure size 720x720 with 1 Axes>"
      ]
     },
     "metadata": {
      "needs_background": "light",
      "tags": []
     },
     "output_type": "display_data"
    }
   ],
   "source": [
    "from mlxtend.plotting import plot_decision_regions\n",
    "\n",
    "X1 = X_train[:50, [0,13]]\n",
    "y1 = y_train[:50]\n",
    "y1_train = np.array(y1)\n",
    "clf = LinearSVC()\n",
    "clf.fit(X1,y1)\n",
    "\n",
    "fig, ax = plt.subplots(figsize = (10,10))\n",
    "plot_decision_regions(X1, y1_train, clf)\n",
    "plt.xlabel(\"RAM\")\n",
    "plt.ylabel(\"Battery Power\")"
   ]
  },
  {
   "cell_type": "markdown",
   "metadata": {
    "id": "9V-HGDrC_i0o"
   },
   "source": [
    "Classification separation graph for Linear SVC"
   ]
  },
  {
   "cell_type": "code",
   "execution_count": 120,
   "metadata": {
    "colab": {
     "base_uri": "https://localhost:8080/",
     "height": 34
    },
    "id": "kfcUMgigW91M",
    "outputId": "c6e25090-26b0-405b-8253-bc2e2df20c6e"
   },
   "outputs": [
    {
     "data": {
      "text/plain": [
       "(array([13]),)"
      ]
     },
     "execution_count": 120,
     "metadata": {
      "tags": []
     },
     "output_type": "execute_result"
    }
   ],
   "source": [
    "np.where(X.columns==\"ram\")"
   ]
  },
  {
   "cell_type": "code",
   "execution_count": 121,
   "metadata": {
    "id": "GO4L8WToW91Q"
   },
   "outputs": [],
   "source": [
    "X1 = X_train[:50, [0,13]]\n",
    "y1 = y_train[:50]\n"
   ]
  },
  {
   "cell_type": "code",
   "execution_count": 122,
   "metadata": {
    "id": "dtIYyONjW91S"
   },
   "outputs": [],
   "source": [
    "y1_train = np.array(y1)"
   ]
  },
  {
   "cell_type": "markdown",
   "metadata": {
    "id": "DGweYCS0AExm"
   },
   "source": [
    "# Logistic Regression"
   ]
  },
  {
   "cell_type": "markdown",
   "metadata": {
    "id": "9fdymIx_AOCk"
   },
   "source": [
    "We are using the SoftMax logistic regression method we build our model. We will use multi_class=\"multinomial\",solver=\"lbfgs\", C=10"
   ]
  },
  {
   "cell_type": "code",
   "execution_count": 123,
   "metadata": {
    "colab": {
     "base_uri": "https://localhost:8080/",
     "height": 101
    },
    "id": "4h73nv97W91W",
    "outputId": "9ae2b342-7625-45de-dadf-53d0c1c2e3bc"
   },
   "outputs": [
    {
     "data": {
      "text/plain": [
       "LogisticRegression(C=10, class_weight=None, dual=False, fit_intercept=True,\n",
       "                   intercept_scaling=1, l1_ratio=None, max_iter=100,\n",
       "                   multi_class='multinomial', n_jobs=None, penalty='l2',\n",
       "                   random_state=None, solver='lbfgs', tol=0.0001, verbose=0,\n",
       "                   warm_start=False)"
      ]
     },
     "execution_count": 123,
     "metadata": {
      "tags": []
     },
     "output_type": "execute_result"
    }
   ],
   "source": [
    "from sklearn.linear_model import LogisticRegression\n",
    "softmax_reg = LogisticRegression(multi_class=\"multinomial\",solver=\"lbfgs\", C=10)\n",
    "softmax_reg.fit(X1, y1_train)"
   ]
  },
  {
   "cell_type": "code",
   "execution_count": 124,
   "metadata": {
    "colab": {
     "base_uri": "https://localhost:8080/",
     "height": 609
    },
    "id": "Ox4Y1jhOW91Y",
    "outputId": "aa1c1b80-796b-42b7-8eee-198dcbae30f6"
   },
   "outputs": [
    {
     "data": {
      "text/plain": [
       "<matplotlib.axes._subplots.AxesSubplot at 0x7f27b66b2240>"
      ]
     },
     "execution_count": 124,
     "metadata": {
      "tags": []
     },
     "output_type": "execute_result"
    },
    {
     "data": {
      "image/png": "[encoded data removed]",
      "text/plain": [
       "<Figure size 720x720 with 1 Axes>"
      ]
     },
     "metadata": {
      "needs_background": "light",
      "tags": []
     },
     "output_type": "display_data"
    }
   ],
   "source": [
    "from mlxtend.plotting import plot_decision_regions\n",
    "\n",
    "fig, ax = plt.subplots(figsize = (10,10))\n",
    "plot_decision_regions(X1, y1_train, clf = softmax_reg)"
   ]
  },
  {
   "cell_type": "markdown",
   "metadata": {
    "id": "ggj3OeEoA8r7"
   },
   "source": [
    "Classification separation graph for SoftMax Logistic Regression\n",
    "\n",
    "### Using Grid Search\n",
    "We the GridSearchCV to find the best hyperparameters(in Softmax, we find, C, penalty using cv=5 and scoring is based on accuracy)"
   ]
  },
  {
   "cell_type": "code",
   "execution_count": 125,
   "metadata": {
    "colab": {
     "base_uri": "https://localhost:8080/",
     "height": 34
    },
    "id": "6zaPgQ4nW91a",
    "outputId": "715489b6-cd5a-40fc-d6fe-47d95e003238"
   },
   "outputs": [
    {
     "data": {
      "text/plain": [
       "{'C': 100, 'penalty': 'l2'}"
      ]
     },
     "execution_count": 125,
     "metadata": {
      "tags": []
     },
     "output_type": "execute_result"
    }
   ],
   "source": [
    "from sklearn.model_selection import GridSearchCV\n",
    "parameters = [{'C': [0.001, 0.01, 0.1, 1, 10, 100,1000], 'penalty': ['l2']}]\n",
    "grid_search = GridSearchCV(estimator = softmax_reg,\n",
    "                           param_grid = parameters,\n",
    "                           scoring = 'accuracy', cv=5)\n",
    "grid_search = grid_search.fit(X1, y1_train)\n",
    "grid_search.best_params_"
   ]
  },
  {
   "cell_type": "markdown",
   "metadata": {
    "id": "igDPR_AoBvTO"
   },
   "source": [
    "From the Grid Search we find best parameters to be C=100 and Penalty = l2\n",
    "\n",
    "We fit these parameters into our model:"
   ]
  },
  {
   "cell_type": "code",
   "execution_count": 126,
   "metadata": {
    "colab": {
     "base_uri": "https://localhost:8080/",
     "height": 84
    },
    "id": "4TC0SAAWW91e",
    "outputId": "24b904b9-ecbe-482c-adcc-78cd3079d352"
   },
   "outputs": [
    {
     "name": "stdout",
     "output_type": "stream",
     "text": [
      "Train score: 0.9587\n",
      "Test score:  0.9400\n",
      "R Square: 0.9541 \n",
      "MSE: 0.06\n"
     ]
    }
   ],
   "source": [
    "best_softmax = LogisticRegression(multi_class=\"multinomial\",solver=\"lbfgs\", penalty ='l2', C = 100)\n",
    "\n",
    "best_softmax.fit(X_train,y_train)\n",
    "prediction3 = best_softmax.predict(X_test)\n",
    "\n",
    "print('Train score: {:.4f}'.format(best_softmax.score(X_train, y_train)))\n",
    "print('Test score:  {:.4f}'.format(best_softmax.score(X_test, y_test)))\n",
    "print(\"R Square: {:.4f} \".format(metrics.r2_score(y_test,prediction3)))\n",
    "print(\"MSE:\",mean_squared_error(y_test, prediction3))"
   ]
  },
  {
   "cell_type": "markdown",
   "metadata": {
    "id": "bjZ7tXhOCC2o"
   },
   "source": [
    "After fitting our model we get Train Score of 0.9587, Test score of 0.9400 and R Square of 0.9541"
   ]
  },
  {
   "cell_type": "markdown",
   "metadata": {
    "id": "edmq5CQiCRG1"
   },
   "source": [
    "# Decision Tree Classifier\n",
    "\n",
    "We run a Decision Tree Classifier on our dataset and find the accuracy on training and test data set"
   ]
  },
  {
   "cell_type": "code",
   "execution_count": 127,
   "metadata": {
    "colab": {
     "base_uri": "https://localhost:8080/",
     "height": 67
    },
    "id": "Qv-zj9JjW91i",
    "outputId": "8b06d3ff-40f3-4fb8-9eb7-7394b929694c"
   },
   "outputs": [
    {
     "name": "stdout",
     "output_type": "stream",
     "text": [
      "Accuracy on training set: 1.000\n",
      "Accuracy on test set: 0.807\n",
      "R Square: 0.8469 \n"
     ]
    }
   ],
   "source": [
    "from sklearn.tree import DecisionTreeClassifier\n",
    "\n",
    "dtree = DecisionTreeClassifier(random_state=0)\n",
    "\n",
    "dtree.fit(X_train, y_train)\n",
    "print(\"Accuracy on training set: {:.3f}\".format(dtree.score(X_train, y_train)))\n",
    "print(\"Accuracy on test set: {:.3f}\".format(dtree.score(X_test, y_test)))\n",
    "prediction1 = dtree.predict(X_test)\n",
    "print(\"R Square: {:.4f} \".format(metrics.r2_score(y_test, prediction1)))"
   ]
  },
  {
   "cell_type": "markdown",
   "metadata": {
    "id": "5ziJL7Z7CnjG"
   },
   "source": [
    "After running Decision Tree Classifier we get accuracy on training set as 1, test score as 0.807 and R square to be 0.8469"
   ]
  },
  {
   "cell_type": "markdown",
   "metadata": {
    "id": "bK6nmSwrC5py"
   },
   "source": [
    "We now run our Decision Tree Classifier after setting Depth to 4 and random state as 0"
   ]
  },
  {
   "cell_type": "code",
   "execution_count": 128,
   "metadata": {
    "colab": {
     "base_uri": "https://localhost:8080/",
     "height": 67
    },
    "id": "BcXT9nfYW91k",
    "outputId": "ea6b6119-01e7-4b05-811b-1d1b56bfa92f"
   },
   "outputs": [
    {
     "name": "stdout",
     "output_type": "stream",
     "text": [
      "Accuracy on training set: 0.831\n",
      "Accuracy on test set: 0.792\n",
      "R Square: 0.8412 \n"
     ]
    }
   ],
   "source": [
    "dtree = DecisionTreeClassifier(max_depth=4, random_state=0)\n",
    "dtree.fit(X_train, y_train)\n",
    "\n",
    "print(\"Accuracy on training set: {:.3f}\".format(dtree.score(X_train, y_train)))\n",
    "print(\"Accuracy on test set: {:.3f}\".format(dtree.score(X_test, y_test)))\n",
    "prediction1 = dtree.predict(X_test)\n",
    "print(\"R Square: {:.4f} \".format(metrics.r2_score(y_test, prediction1)))"
   ]
  },
  {
   "cell_type": "markdown",
   "metadata": {
    "id": "1XV1RfFXDEJ_"
   },
   "source": [
    "After running Decision Tree Classifier with depth 4 and random state 0, we get accuracy on training set as 0.831, test score as 0.792 and R square to be 0.8412"
   ]
  },
  {
   "cell_type": "markdown",
   "metadata": {
    "id": "cSG0tOywDSYg"
   },
   "source": [
    "### Using Grid Search\n",
    "We the GridSearchCV to find the best hyperparameters(in Decision Tree, we find, Max Depth, and criterion based on accuracy)"
   ]
  },
  {
   "cell_type": "code",
   "execution_count": 129,
   "metadata": {
    "colab": {
     "base_uri": "https://localhost:8080/",
     "height": 34
    },
    "id": "BD1XpkQjW91n",
    "outputId": "b6984aca-3986-43b6-8e58-9b6a3bd5350f"
   },
   "outputs": [
    {
     "data": {
      "text/plain": [
       "{'criterion': 'entropy', 'max_depth': 6}"
      ]
     },
     "execution_count": 129,
     "metadata": {
      "tags": []
     },
     "output_type": "execute_result"
    }
   ],
   "source": [
    "from sklearn.model_selection import GridSearchCV\n",
    "parameters = [{\"max_depth\": [1,2,3,4,5,6,7], \"criterion\": [\"gini\", \"entropy\"]}]\n",
    "grid_search = GridSearchCV(estimator = dtree,\n",
    "                           param_grid = parameters,\n",
    "                           scoring = 'accuracy')\n",
    "grid_search = grid_search.fit(X_train, y_train)\n",
    "grid_search.best_params_"
   ]
  },
  {
   "cell_type": "markdown",
   "metadata": {
    "id": "hJ7i_iquDchI"
   },
   "source": [
    "We get criterion as entropy and max depth as 6. We will now run our model based on these parameters"
   ]
  },
  {
   "cell_type": "code",
   "execution_count": 130,
   "metadata": {
    "colab": {
     "base_uri": "https://localhost:8080/",
     "height": 84
    },
    "id": "64Je0lBWW91q",
    "outputId": "b28f2022-43de-4a78-e4a1-d7208f616a96"
   },
   "outputs": [
    {
     "name": "stdout",
     "output_type": "stream",
     "text": [
      "Train score: 0.9062\n",
      "Test score: 0.8000\n",
      "R Square: 0.8469 \n",
      "MSE: 0.2\n"
     ]
    }
   ],
   "source": [
    "from sklearn.tree import DecisionTreeClassifier\n",
    "dtree = DecisionTreeClassifier(criterion = 'entropy', max_depth = 6)\n",
    "dtree.fit(X_train, y_train)\n",
    "print('Train score: {:.4f}'.format(dtree.score(X_train, y_train)))\n",
    "print('Test score: {:.4f}'.format(dtree.score(X_test, y_test)))\n",
    "prediction4 = dtree.predict(X_test)\n",
    "print(\"R Square: {:.4f} \".format(metrics.r2_score(y_test,prediction4)))\n",
    "print(\"MSE:\",mean_squared_error(y_test, prediction4))"
   ]
  },
  {
   "cell_type": "markdown",
   "metadata": {
    "id": "WEAma09LDo_i"
   },
   "source": [
    "After running the model we get Train score as 0.9062, test score as 0.8000 and R quare as 0.8469"
   ]
  },
  {
   "cell_type": "markdown",
   "metadata": {
    "id": "KleqJufBEFC5"
   },
   "source": [
    "We use decision tree classifier to plot a graph for a sample of 50 datapoints"
   ]
  },
  {
   "cell_type": "code",
   "execution_count": 131,
   "metadata": {
    "colab": {
     "base_uri": "https://localhost:8080/",
     "height": 351
    },
    "id": "BeMuEwK7W91u",
    "outputId": "74f976c7-4f4a-4a97-fe71-1294944049f2"
   },
   "outputs": [
    {
     "data": {
      "text/plain": [
       "Text(0, 0.5, 'Price')"
      ]
     },
     "execution_count": 131,
     "metadata": {
      "tags": []
     },
     "output_type": "execute_result"
    },
    {
     "data": {
      "image/png": "[encoded data removed]",
      "text/plain": [
       "<Figure size 1440x360 with 1 Axes>"
      ]
     },
     "metadata": {
      "needs_background": "light",
      "tags": []
     },
     "output_type": "display_data"
    }
   ],
   "source": [
    "from sklearn.tree import DecisionTreeClassifier\n",
    "\n",
    "X_b = X_train[:50,13].reshape(-1,1)\n",
    "y_b = y_train[:50]\n",
    "\n",
    "clf = DecisionTreeClassifier()\n",
    "clf.fit(X_b, y_b)\n",
    "\n",
    "X_new=np.linspace(X_b.min(), X_b.max(), 50).reshape(50, 1)\n",
    "y_predict = clf.predict(X_new)\n",
    "\n",
    "plt.subplots(figsize = (20,5))\n",
    "plt.plot(X_new, y_predict, c = 'r')\n",
    "plt.scatter(X_b, y_b)\n",
    "plt.xlabel('RAM')\n",
    "plt.ylabel('Price')"
   ]
  },
  {
   "cell_type": "markdown",
   "metadata": {
    "id": "SQESyjW0EP1P"
   },
   "source": [
    "Running Cross Validation on Decision Tree Classifier"
   ]
  },
  {
   "cell_type": "code",
   "execution_count": 132,
   "metadata": {
    "colab": {
     "base_uri": "https://localhost:8080/",
     "height": 50
    },
    "id": "lMJFfeV3W91w",
    "outputId": "cd072e60-9a6a-42de-d1a8-20d770ce6c7f"
   },
   "outputs": [
    {
     "name": "stdout",
     "output_type": "stream",
     "text": [
      "Avg Train Score: 0.8200\n",
      "Avg Test Score: 0.8025\n"
     ]
    }
   ],
   "source": [
    "from sklearn.model_selection import cross_val_score\n",
    "train_score_list = cross_val_score(dtree,X_train,y_train,cv=5)\n",
    "test_score_list = cross_val_score(dtree,X_test,y_test,cv=5)\n",
    "print(\"Avg Train Score: %.4f\"%train_score_list.mean())\n",
    "print(\"Avg Test Score: %.4f\"%test_score_list.mean())"
   ]
  },
  {
   "cell_type": "markdown",
   "metadata": {
    "id": "kf1BWh7YEaIq"
   },
   "source": [
    "After running cross validation, we get average train score as 0.8200 and average test score as 0.8025"
   ]
  },
  {
   "cell_type": "code",
   "execution_count": 133,
   "metadata": {
    "id": "qFDui8hfW91z"
   },
   "outputs": [],
   "source": [
    "dt_train_score=[]\n",
    "dt_test_score=[]\n",
    "\n",
    "for i in range(1,15):\n",
    "    dtClassifier = DecisionTreeClassifier(max_depth=i,random_state= 0)\n",
    "    dtClassifier.fit(X_train, y_train)\n",
    "    dt_train_score.append(dtClassifier.score(X_train, y_train))\n",
    "    dt_test_score.append(dtClassifier.score(X_test, y_test))"
   ]
  },
  {
   "cell_type": "code",
   "execution_count": 134,
   "metadata": {
    "colab": {
     "base_uri": "https://localhost:8080/",
     "height": 351
    },
    "id": "HapupSzwW911",
    "outputId": "8d54cfe6-ff9a-4c19-e9c1-d91487ead9fb"
   },
   "outputs": [
    {
     "data": {
      "text/plain": [
       "Text(0, 0.5, 'Accuracy')"
      ]
     },
     "execution_count": 134,
     "metadata": {
      "tags": []
     },
     "output_type": "execute_result"
    },
    {
     "data": {
      "image/png": "[encoded data removed]",
      "text/plain": [
       "<Figure size 1440x360 with 1 Axes>"
      ]
     },
     "metadata": {
      "needs_background": "light",
      "tags": []
     },
     "output_type": "display_data"
    }
   ],
   "source": [
    "x_axis = range(1,15)\n",
    "plt.subplots(figsize = (20,5))\n",
    "plt.plot(x_axis, dt_train_score, c = 'g', label = 'Train Score')\n",
    "plt.plot(x_axis, dt_test_score, c = 'b', label = 'Test Score')\n",
    "plt.legend()\n",
    "plt.xlabel('Tree Depth')\n",
    "plt.ylabel('Accuracy')"
   ]
  },
  {
   "cell_type": "markdown",
   "metadata": {
    "id": "GgeD8nsQFCbj"
   },
   "source": [
    "We can see a plot for our Decision Tree Classifier to see the tree depth for Train and test scores."
   ]
  },
  {
   "cell_type": "markdown",
   "metadata": {
    "id": "Qzco1iAzFpxH"
   },
   "source": [
    "# Kernal Models"
   ]
  },
  {
   "cell_type": "markdown",
   "metadata": {
    "id": "i06p3gxGGfeB"
   },
   "source": [
    "Below we see a general comparision between Linear SVC, SVC with Linear Kernel, SVC with RBF Kernel, SVC with Polynomial Kernel(degree 3)"
   ]
  },
  {
   "cell_type": "code",
   "execution_count": 135,
   "metadata": {
    "colab": {
     "base_uri": "https://localhost:8080/",
     "height": 879
    },
    "id": "Y0Mi2wQhW914",
    "outputId": "226d1803-9a58-440f-edbf-431842a5a7d3"
   },
   "outputs": [
    {
     "data": {
      "image/png": "[encoded data removed]",
      "text/plain": [
       "<Figure size 1440x1080 with 4 Axes>"
      ]
     },
     "metadata": {
      "needs_background": "light",
      "tags": []
     },
     "output_type": "display_data"
    }
   ],
   "source": [
    "%matplotlib inline\n",
    "\n",
    "from mlxtend.plotting import plot_decision_regions\n",
    "from sklearn.model_selection import train_test_split\n",
    "from sklearn.svm import SVC, LinearSVC\n",
    "import matplotlib.gridspec as gridspec\n",
    "import itertools\n",
    "\n",
    "X1 = X_train[:100, [0,13]]\n",
    "y1 = y_train[:100]\n",
    "y1_train = np.array(y1)\n",
    "\n",
    "C = 1\n",
    "clf1 = LinearSVC(C=C)\n",
    "clf2 = SVC(kernel='linear', C=C)\n",
    "clf3 = SVC(kernel='rbf', gamma=0.7, C=C)\n",
    "clf4 = SVC(kernel='poly', degree=3, C=C)\n",
    "\n",
    "\n",
    "gs = gridspec.GridSpec(2, 2)\n",
    "fig, ax = plt.subplots(figsize=(20, 15))\n",
    "\n",
    "labels = ['LinearSVC',\n",
    "          'SVC with linear kernel',\n",
    "          'SVC with RBF kernel',\n",
    "          'SVC with polynomial (degree 3) kernel']\n",
    "\n",
    "for clf, lab, grd in zip([clf1, clf2, clf3, clf4],\n",
    "                         labels,\n",
    "                         itertools.product([0, 1],\n",
    "                         repeat=2)):\n",
    "    clf.fit(X1, y1_train)\n",
    "    ax = plt.subplot(gs[grd[0], grd[1]])\n",
    "    fig = plot_decision_regions(X=X1, y=y1_train,\n",
    "                                clf=clf, legend=2)\n",
    "    plt.title(lab)\n",
    "  "
   ]
  },
  {
   "cell_type": "markdown",
   "metadata": {
    "id": "rDdZ81yRIdAm"
   },
   "source": [
    "### Polynomial SVC Kernel"
   ]
  },
  {
   "cell_type": "code",
   "execution_count": 139,
   "metadata": {
    "colab": {
     "base_uri": "https://localhost:8080/",
     "height": 499
    },
    "id": "o6iiRraRW917",
    "outputId": "737c32c4-edcb-42fc-9211-cfd8fb6626e0"
   },
   "outputs": [
    {
     "data": {
      "image/png": "[encoded data removed]",
      "text/plain": [
       "<Figure size 1152x576 with 2 Axes>"
      ]
     },
     "metadata": {
      "needs_background": "light",
      "tags": []
     },
     "output_type": "display_data"
    }
   ],
   "source": [
    "from sklearn.svm import SVC\n",
    "from mlxtend.plotting import plot_decision_regions\n",
    "import matplotlib.gridspec as gridspec\n",
    "import itertools\n",
    "gs = gridspec.GridSpec(1, 2)\n",
    "\n",
    "X1 = X_train[:200, [0, 13]]\n",
    "y1 = y_train[:200]\n",
    "y1_train = np.array(y1)\n",
    "\n",
    "clf1 = SVC(kernel = 'poly', degree = 3, C = 5, coef0=1)\n",
    "clf1.fit(X1,y1_train)\n",
    "\n",
    "clf2 = SVC(kernel = 'poly', degree = 3, C = 5, coef0=0)\n",
    "clf2.fit(X1,y1_train)\n",
    "\n",
    "fig = plt.figure(figsize=(16,8))\n",
    "\n",
    "labels = [\"kernel = 'poly', degree = 3, C = 5, coef0=1\", \"kernel = 'poly', degree = 3, C = 5, coef0=0\"]\n",
    "for clf, lab, grd in zip([clf1, clf2],\n",
    "                         labels,\n",
    "                         itertools.product([0, 1], repeat=2)):\n",
    "\n",
    "    clf.fit(X1, y1_train)\n",
    "    ax = plt.subplot(gs[grd[0], grd[1]])\n",
    "    fig = plot_decision_regions(X=X1, y=y1_train, clf=clf, legend=2)\n",
    "    plt.title(lab)"
   ]
  },
  {
   "cell_type": "markdown",
   "metadata": {
    "id": "7CmttvyXI5eo"
   },
   "source": [
    "### Radial Based Function SVC Kernel using Grid Search"
   ]
  },
  {
   "cell_type": "code",
   "execution_count": 140,
   "metadata": {
    "colab": {
     "base_uri": "https://localhost:8080/",
     "height": 50
    },
    "id": "LRb1iI3tW91_",
    "outputId": "77f1c0bc-61fa-4765-bc30-0b52e72ffb6e"
   },
   "outputs": [
    {
     "name": "stdout",
     "output_type": "stream",
     "text": [
      "Parameter grid:\n",
      "{'C': [0.001, 0.01, 0.1, 1, 10, 100], 'gamma': [0.001, 0.01, 0.1, 1, 10, 100]}\n"
     ]
    }
   ],
   "source": [
    "param_grid = {'C': [0.001, 0.01, 0.1, 1, 10, 100],\n",
    "              'gamma': [0.001, 0.01, 0.1, 1, 10, 100]}\n",
    "print(\"Parameter grid:\\n{}\".format(param_grid))"
   ]
  },
  {
   "cell_type": "code",
   "execution_count": 141,
   "metadata": {
    "id": "xIoFTTr9eMNS"
   },
   "outputs": [],
   "source": [
    "from sklearn.model_selection import GridSearchCV\n",
    "from sklearn.svm import SVC\n",
    "grid_search = GridSearchCV(SVC(), param_grid, cv=5, return_train_score=True)"
   ]
  },
  {
   "cell_type": "code",
   "execution_count": 142,
   "metadata": {
    "colab": {
     "base_uri": "https://localhost:8080/",
     "height": 218
    },
    "id": "qG0kn54merCk",
    "outputId": "a632e1d2-2b14-4783-a048-4b77267da3ed"
   },
   "outputs": [
    {
     "data": {
      "text/plain": [
       "GridSearchCV(cv=5, error_score=nan,\n",
       "             estimator=SVC(C=1.0, break_ties=False, cache_size=200,\n",
       "                           class_weight=None, coef0=0.0,\n",
       "                           decision_function_shape='ovr', degree=3,\n",
       "                           gamma='scale', kernel='rbf', max_iter=-1,\n",
       "                           probability=False, random_state=None, shrinking=True,\n",
       "                           tol=0.001, verbose=False),\n",
       "             iid='deprecated', n_jobs=None,\n",
       "             param_grid={'C': [0.001, 0.01, 0.1, 1, 10, 100],\n",
       "                         'gamma': [0.001, 0.01, 0.1, 1, 10, 100]},\n",
       "             pre_dispatch='2*n_jobs', refit=True, return_train_score=True,\n",
       "             scoring=None, verbose=0)"
      ]
     },
     "execution_count": 142,
     "metadata": {
      "tags": []
     },
     "output_type": "execute_result"
    }
   ],
   "source": [
    "grid_search.fit(X_train, y_train)"
   ]
  },
  {
   "cell_type": "code",
   "execution_count": 143,
   "metadata": {
    "colab": {
     "base_uri": "https://localhost:8080/",
     "height": 84
    },
    "id": "vxF9kLUpgd-P",
    "outputId": "8c7a9344-d3c3-4742-bf4b-b008d437a8b8"
   },
   "outputs": [
    {
     "name": "stdout",
     "output_type": "stream",
     "text": [
      "Best parameters: {'C': 100, 'gamma': 0.001}\n",
      "Best cross-validation score: 0.92\n",
      "R Square: 0.9426 \n",
      "MSE: 0.075\n"
     ]
    }
   ],
   "source": [
    "print(\"Best parameters: {}\".format(grid_search.best_params_))\n",
    "print(\"Best cross-validation score: {:.2f}\".format(grid_search.best_score_))\n",
    "prediction5 = grid_search.predict(X_test)\n",
    "print(\"R Square: {:.4f} \".format(metrics.r2_score(y_test,prediction5)))\n",
    "print(\"MSE:\",mean_squared_error(y_test, prediction5))"
   ]
  },
  {
   "cell_type": "markdown",
   "metadata": {
    "id": "Vi7tqakeJIn8"
   },
   "source": [
    "Best parameters after running RBF grid search are: C = 100, gamma = 0.001.\n",
    "Best cross validation score we is 0.92"
   ]
  },
  {
   "cell_type": "code",
   "execution_count": 144,
   "metadata": {
    "colab": {
     "base_uri": "https://localhost:8080/",
     "height": 467
    },
    "id": "q7GOEL9kgqaF",
    "outputId": "324a418d-69c7-48d3-e3d4-94f230b2c13a"
   },
   "outputs": [
    {
     "data": {
      "text/html": [
       "<div>\n",
       "<style scoped>\n",
       "    .dataframe tbody tr th:only-of-type {\n",
       "        vertical-align: middle;\n",
       "    }\n",
       "\n",
       "    .dataframe tbody tr th {\n",
       "        vertical-align: top;\n",
       "    }\n",
       "\n",
       "    .dataframe thead th {\n",
       "        text-align: right;\n",
       "    }\n",
       "</style>\n",
       "<table border=\"1\" class=\"dataframe\">\n",
       "  <thead>\n",
       "    <tr style=\"text-align: right;\">\n",
       "      <th></th>\n",
       "      <th>mean_fit_time</th>\n",
       "      <th>std_fit_time</th>\n",
       "      <th>mean_score_time</th>\n",
       "      <th>std_score_time</th>\n",
       "      <th>param_C</th>\n",
       "      <th>param_gamma</th>\n",
       "      <th>params</th>\n",
       "      <th>split0_test_score</th>\n",
       "      <th>split1_test_score</th>\n",
       "      <th>split2_test_score</th>\n",
       "      <th>split3_test_score</th>\n",
       "      <th>split4_test_score</th>\n",
       "      <th>mean_test_score</th>\n",
       "      <th>std_test_score</th>\n",
       "      <th>rank_test_score</th>\n",
       "      <th>split0_train_score</th>\n",
       "      <th>split1_train_score</th>\n",
       "      <th>split2_train_score</th>\n",
       "      <th>split3_train_score</th>\n",
       "      <th>split4_train_score</th>\n",
       "      <th>mean_train_score</th>\n",
       "      <th>std_train_score</th>\n",
       "    </tr>\n",
       "  </thead>\n",
       "  <tbody>\n",
       "    <tr>\n",
       "      <th>0</th>\n",
       "      <td>0.100909</td>\n",
       "      <td>0.005207</td>\n",
       "      <td>0.015649</td>\n",
       "      <td>0.000467</td>\n",
       "      <td>0.001</td>\n",
       "      <td>0.001</td>\n",
       "      <td>{'C': 0.001, 'gamma': 0.001}</td>\n",
       "      <td>0.253125</td>\n",
       "      <td>0.25625</td>\n",
       "      <td>0.25625</td>\n",
       "      <td>0.25625</td>\n",
       "      <td>0.25625</td>\n",
       "      <td>0.255625</td>\n",
       "      <td>0.00125</td>\n",
       "      <td>15</td>\n",
       "      <td>0.25625</td>\n",
       "      <td>0.255469</td>\n",
       "      <td>0.255469</td>\n",
       "      <td>0.255469</td>\n",
       "      <td>0.255469</td>\n",
       "      <td>0.255625</td>\n",
       "      <td>0.000312</td>\n",
       "    </tr>\n",
       "    <tr>\n",
       "      <th>1</th>\n",
       "      <td>0.097624</td>\n",
       "      <td>0.001216</td>\n",
       "      <td>0.015380</td>\n",
       "      <td>0.000094</td>\n",
       "      <td>0.001</td>\n",
       "      <td>0.01</td>\n",
       "      <td>{'C': 0.001, 'gamma': 0.01}</td>\n",
       "      <td>0.253125</td>\n",
       "      <td>0.25625</td>\n",
       "      <td>0.25625</td>\n",
       "      <td>0.25625</td>\n",
       "      <td>0.25625</td>\n",
       "      <td>0.255625</td>\n",
       "      <td>0.00125</td>\n",
       "      <td>15</td>\n",
       "      <td>0.25625</td>\n",
       "      <td>0.255469</td>\n",
       "      <td>0.255469</td>\n",
       "      <td>0.255469</td>\n",
       "      <td>0.255469</td>\n",
       "      <td>0.255625</td>\n",
       "      <td>0.000312</td>\n",
       "    </tr>\n",
       "    <tr>\n",
       "      <th>2</th>\n",
       "      <td>0.098601</td>\n",
       "      <td>0.001657</td>\n",
       "      <td>0.015647</td>\n",
       "      <td>0.000489</td>\n",
       "      <td>0.001</td>\n",
       "      <td>0.1</td>\n",
       "      <td>{'C': 0.001, 'gamma': 0.1}</td>\n",
       "      <td>0.253125</td>\n",
       "      <td>0.25625</td>\n",
       "      <td>0.25625</td>\n",
       "      <td>0.25625</td>\n",
       "      <td>0.25625</td>\n",
       "      <td>0.255625</td>\n",
       "      <td>0.00125</td>\n",
       "      <td>15</td>\n",
       "      <td>0.25625</td>\n",
       "      <td>0.255469</td>\n",
       "      <td>0.255469</td>\n",
       "      <td>0.255469</td>\n",
       "      <td>0.255469</td>\n",
       "      <td>0.255625</td>\n",
       "      <td>0.000312</td>\n",
       "    </tr>\n",
       "    <tr>\n",
       "      <th>3</th>\n",
       "      <td>0.098021</td>\n",
       "      <td>0.002488</td>\n",
       "      <td>0.016593</td>\n",
       "      <td>0.001233</td>\n",
       "      <td>0.001</td>\n",
       "      <td>1</td>\n",
       "      <td>{'C': 0.001, 'gamma': 1}</td>\n",
       "      <td>0.253125</td>\n",
       "      <td>0.25625</td>\n",
       "      <td>0.25625</td>\n",
       "      <td>0.25625</td>\n",
       "      <td>0.25625</td>\n",
       "      <td>0.255625</td>\n",
       "      <td>0.00125</td>\n",
       "      <td>15</td>\n",
       "      <td>0.25625</td>\n",
       "      <td>0.255469</td>\n",
       "      <td>0.255469</td>\n",
       "      <td>0.255469</td>\n",
       "      <td>0.255469</td>\n",
       "      <td>0.255625</td>\n",
       "      <td>0.000312</td>\n",
       "    </tr>\n",
       "    <tr>\n",
       "      <th>4</th>\n",
       "      <td>0.099168</td>\n",
       "      <td>0.000840</td>\n",
       "      <td>0.015871</td>\n",
       "      <td>0.000220</td>\n",
       "      <td>0.001</td>\n",
       "      <td>10</td>\n",
       "      <td>{'C': 0.001, 'gamma': 10}</td>\n",
       "      <td>0.253125</td>\n",
       "      <td>0.25625</td>\n",
       "      <td>0.25625</td>\n",
       "      <td>0.25625</td>\n",
       "      <td>0.25625</td>\n",
       "      <td>0.255625</td>\n",
       "      <td>0.00125</td>\n",
       "      <td>15</td>\n",
       "      <td>0.25625</td>\n",
       "      <td>0.255469</td>\n",
       "      <td>0.255469</td>\n",
       "      <td>0.255469</td>\n",
       "      <td>0.255469</td>\n",
       "      <td>0.255625</td>\n",
       "      <td>0.000312</td>\n",
       "    </tr>\n",
       "  </tbody>\n",
       "</table>\n",
       "</div>"
      ],
      "text/plain": [
       "   mean_fit_time  std_fit_time  ...  mean_train_score  std_train_score\n",
       "0       0.100909      0.005207  ...          0.255625         0.000312\n",
       "1       0.097624      0.001216  ...          0.255625         0.000312\n",
       "2       0.098601      0.001657  ...          0.255625         0.000312\n",
       "3       0.098021      0.002488  ...          0.255625         0.000312\n",
       "4       0.099168      0.000840  ...          0.255625         0.000312\n",
       "\n",
       "[5 rows x 22 columns]"
      ]
     },
     "metadata": {
      "tags": []
     },
     "output_type": "display_data"
    }
   ],
   "source": [
    "results = pd.DataFrame(grid_search.cv_results_)\n",
    "# show the first 5 rows\n",
    "display(results.head())"
   ]
  },
  {
   "cell_type": "markdown",
   "metadata": {
    "id": "PVOzjmHVJeBi"
   },
   "source": [
    "### Below we are plotting a correlation graph between C and Gamma\n"
   ]
  },
  {
   "cell_type": "code",
   "execution_count": 145,
   "metadata": {
    "colab": {
     "base_uri": "https://localhost:8080/",
     "height": 296
    },
    "id": "j_lpOfDkgwJO",
    "outputId": "946b2acb-d68a-451e-82b3-c694d21078f1"
   },
   "outputs": [
    {
     "data": {
      "text/plain": [
       "<matplotlib.collections.PolyCollection at 0x7f27aeb5ab38>"
      ]
     },
     "execution_count": 145,
     "metadata": {
      "tags": []
     },
     "output_type": "execute_result"
    },
    {
     "data": {
      "image/png": "[encoded data removed]",
      "text/plain": [
       "<Figure size 432x288 with 1 Axes>"
      ]
     },
     "metadata": {
      "needs_background": "light",
      "tags": []
     },
     "output_type": "display_data"
    }
   ],
   "source": [
    "import mglearn\n",
    "scores = np.array(results.mean_test_score).reshape(6, 6)\n",
    "\n",
    "mglearn.tools.heatmap(scores, xlabel='gamma', xticklabels=param_grid['gamma'], ylabel='C', yticklabels=param_grid['C'], cmap=\"viridis\")"
   ]
  },
  {
   "cell_type": "markdown",
   "metadata": {
    "id": "Svhr1rbIJv1f"
   },
   "source": [
    "### Linear SVC Kernel using Grid Search"
   ]
  },
  {
   "cell_type": "code",
   "execution_count": 146,
   "metadata": {
    "colab": {
     "base_uri": "https://localhost:8080/",
     "height": 118
    },
    "id": "smBGzj8opUWd",
    "outputId": "a871f8eb-7ede-450d-b842-66c7fe05f6d2"
   },
   "outputs": [
    {
     "name": "stdout",
     "output_type": "stream",
     "text": [
      "Parameter grid:\n",
      "{'C': [0.001, 0.01, 0.1, 1, 10, 100], 'gamma': [0.001, 0.01, 0.1, 1, 10, 100]}\n",
      "Best parameters for kernel SVC linear: {'C': 100, 'gamma': 0.001}\n",
      "Best cross-validationscore: 0.94\n",
      "R Square: 0.9502 \n",
      "MSE: 0.065\n"
     ]
    }
   ],
   "source": [
    "param_grid = {'C': [0.001, 0.01, 0.1, 1, 10, 100],\n",
    "              'gamma': [0.001, 0.01, 0.1, 1, 10, 100]}\n",
    "print(\"Parameter grid:\\n{}\".format(param_grid))\n",
    "\n",
    "grid_ker_lin = GridSearchCV(SVC(kernel = 'linear'), param_grid, cv = 5, return_train_score=True)\n",
    "grid_ker_lin.fit(X_train,y_train)\n",
    "\n",
    "print(\"Best parameters for kernel SVC linear: {}\".format(grid_ker_lin.best_params_))\n",
    "print(\"Best cross-validationscore: {:.2f}\".format(grid_ker_lin.best_score_))\n",
    "prediction6 = grid_ker_lin.predict(X_test)\n",
    "print(\"R Square: {:.4f} \".format(metrics.r2_score(y_test,prediction6)))\n",
    "print(\"MSE:\",mean_squared_error(y_test, prediction6))"
   ]
  },
  {
   "cell_type": "markdown",
   "metadata": {
    "id": "-9t4J3XCJ9Gt"
   },
   "source": [
    "Best parameters after running Linear Kernel grid search are: C = 100, gamma = 0.001.\n",
    "Best cross validation score we is 0.94"
   ]
  },
  {
   "cell_type": "code",
   "execution_count": 147,
   "metadata": {
    "colab": {
     "base_uri": "https://localhost:8080/",
     "height": 467
    },
    "id": "Ob9XlOXDqUed",
    "outputId": "2bce03c5-51a4-4636-f907-b03effc9b4f0"
   },
   "outputs": [
    {
     "data": {
      "text/html": [
       "<div>\n",
       "<style scoped>\n",
       "    .dataframe tbody tr th:only-of-type {\n",
       "        vertical-align: middle;\n",
       "    }\n",
       "\n",
       "    .dataframe tbody tr th {\n",
       "        vertical-align: top;\n",
       "    }\n",
       "\n",
       "    .dataframe thead th {\n",
       "        text-align: right;\n",
       "    }\n",
       "</style>\n",
       "<table border=\"1\" class=\"dataframe\">\n",
       "  <thead>\n",
       "    <tr style=\"text-align: right;\">\n",
       "      <th></th>\n",
       "      <th>mean_fit_time</th>\n",
       "      <th>std_fit_time</th>\n",
       "      <th>mean_score_time</th>\n",
       "      <th>std_score_time</th>\n",
       "      <th>param_C</th>\n",
       "      <th>param_gamma</th>\n",
       "      <th>params</th>\n",
       "      <th>split0_test_score</th>\n",
       "      <th>split1_test_score</th>\n",
       "      <th>split2_test_score</th>\n",
       "      <th>split3_test_score</th>\n",
       "      <th>split4_test_score</th>\n",
       "      <th>mean_test_score</th>\n",
       "      <th>std_test_score</th>\n",
       "      <th>rank_test_score</th>\n",
       "      <th>split0_train_score</th>\n",
       "      <th>split1_train_score</th>\n",
       "      <th>split2_train_score</th>\n",
       "      <th>split3_train_score</th>\n",
       "      <th>split4_train_score</th>\n",
       "      <th>mean_train_score</th>\n",
       "      <th>std_train_score</th>\n",
       "    </tr>\n",
       "  </thead>\n",
       "  <tbody>\n",
       "    <tr>\n",
       "      <th>0</th>\n",
       "      <td>0.050948</td>\n",
       "      <td>0.003597</td>\n",
       "      <td>0.008465</td>\n",
       "      <td>0.001263</td>\n",
       "      <td>0.001</td>\n",
       "      <td>0.001</td>\n",
       "      <td>{'C': 0.001, 'gamma': 0.001}</td>\n",
       "      <td>0.490625</td>\n",
       "      <td>0.509375</td>\n",
       "      <td>0.5</td>\n",
       "      <td>0.490625</td>\n",
       "      <td>0.478125</td>\n",
       "      <td>0.49375</td>\n",
       "      <td>0.010458</td>\n",
       "      <td>31</td>\n",
       "      <td>0.496094</td>\n",
       "      <td>0.510156</td>\n",
       "      <td>0.509375</td>\n",
       "      <td>0.485938</td>\n",
       "      <td>0.483594</td>\n",
       "      <td>0.497031</td>\n",
       "      <td>0.011217</td>\n",
       "    </tr>\n",
       "    <tr>\n",
       "      <th>1</th>\n",
       "      <td>0.051292</td>\n",
       "      <td>0.004207</td>\n",
       "      <td>0.007896</td>\n",
       "      <td>0.000237</td>\n",
       "      <td>0.001</td>\n",
       "      <td>0.01</td>\n",
       "      <td>{'C': 0.001, 'gamma': 0.01}</td>\n",
       "      <td>0.490625</td>\n",
       "      <td>0.509375</td>\n",
       "      <td>0.5</td>\n",
       "      <td>0.490625</td>\n",
       "      <td>0.478125</td>\n",
       "      <td>0.49375</td>\n",
       "      <td>0.010458</td>\n",
       "      <td>31</td>\n",
       "      <td>0.496094</td>\n",
       "      <td>0.510156</td>\n",
       "      <td>0.509375</td>\n",
       "      <td>0.485938</td>\n",
       "      <td>0.483594</td>\n",
       "      <td>0.497031</td>\n",
       "      <td>0.011217</td>\n",
       "    </tr>\n",
       "    <tr>\n",
       "      <th>2</th>\n",
       "      <td>0.047975</td>\n",
       "      <td>0.001327</td>\n",
       "      <td>0.007921</td>\n",
       "      <td>0.000170</td>\n",
       "      <td>0.001</td>\n",
       "      <td>0.1</td>\n",
       "      <td>{'C': 0.001, 'gamma': 0.1}</td>\n",
       "      <td>0.490625</td>\n",
       "      <td>0.509375</td>\n",
       "      <td>0.5</td>\n",
       "      <td>0.490625</td>\n",
       "      <td>0.478125</td>\n",
       "      <td>0.49375</td>\n",
       "      <td>0.010458</td>\n",
       "      <td>31</td>\n",
       "      <td>0.496094</td>\n",
       "      <td>0.510156</td>\n",
       "      <td>0.509375</td>\n",
       "      <td>0.485938</td>\n",
       "      <td>0.483594</td>\n",
       "      <td>0.497031</td>\n",
       "      <td>0.011217</td>\n",
       "    </tr>\n",
       "    <tr>\n",
       "      <th>3</th>\n",
       "      <td>0.047993</td>\n",
       "      <td>0.000711</td>\n",
       "      <td>0.007887</td>\n",
       "      <td>0.000217</td>\n",
       "      <td>0.001</td>\n",
       "      <td>1</td>\n",
       "      <td>{'C': 0.001, 'gamma': 1}</td>\n",
       "      <td>0.490625</td>\n",
       "      <td>0.509375</td>\n",
       "      <td>0.5</td>\n",
       "      <td>0.490625</td>\n",
       "      <td>0.478125</td>\n",
       "      <td>0.49375</td>\n",
       "      <td>0.010458</td>\n",
       "      <td>31</td>\n",
       "      <td>0.496094</td>\n",
       "      <td>0.510156</td>\n",
       "      <td>0.509375</td>\n",
       "      <td>0.485938</td>\n",
       "      <td>0.483594</td>\n",
       "      <td>0.497031</td>\n",
       "      <td>0.011217</td>\n",
       "    </tr>\n",
       "    <tr>\n",
       "      <th>4</th>\n",
       "      <td>0.048140</td>\n",
       "      <td>0.000890</td>\n",
       "      <td>0.007585</td>\n",
       "      <td>0.000111</td>\n",
       "      <td>0.001</td>\n",
       "      <td>10</td>\n",
       "      <td>{'C': 0.001, 'gamma': 10}</td>\n",
       "      <td>0.490625</td>\n",
       "      <td>0.509375</td>\n",
       "      <td>0.5</td>\n",
       "      <td>0.490625</td>\n",
       "      <td>0.478125</td>\n",
       "      <td>0.49375</td>\n",
       "      <td>0.010458</td>\n",
       "      <td>31</td>\n",
       "      <td>0.496094</td>\n",
       "      <td>0.510156</td>\n",
       "      <td>0.509375</td>\n",
       "      <td>0.485938</td>\n",
       "      <td>0.483594</td>\n",
       "      <td>0.497031</td>\n",
       "      <td>0.011217</td>\n",
       "    </tr>\n",
       "  </tbody>\n",
       "</table>\n",
       "</div>"
      ],
      "text/plain": [
       "   mean_fit_time  std_fit_time  ...  mean_train_score  std_train_score\n",
       "0       0.050948      0.003597  ...          0.497031         0.011217\n",
       "1       0.051292      0.004207  ...          0.497031         0.011217\n",
       "2       0.047975      0.001327  ...          0.497031         0.011217\n",
       "3       0.047993      0.000711  ...          0.497031         0.011217\n",
       "4       0.048140      0.000890  ...          0.497031         0.011217\n",
       "\n",
       "[5 rows x 22 columns]"
      ]
     },
     "metadata": {
      "tags": []
     },
     "output_type": "display_data"
    }
   ],
   "source": [
    "results_lin = pd.DataFrame(grid_ker_lin.cv_results_)\n",
    "# show the first 5 rows\n",
    "display(results_lin.head())"
   ]
  },
  {
   "cell_type": "markdown",
   "metadata": {
    "id": "aMbVLpUiKH7c"
   },
   "source": [
    "### Below we are plotting a correlation graph between C and Gamma\n"
   ]
  },
  {
   "cell_type": "code",
   "execution_count": 148,
   "metadata": {
    "colab": {
     "base_uri": "https://localhost:8080/",
     "height": 296
    },
    "id": "BFkoDSMmqHG3",
    "outputId": "b8c43268-3746-474e-f985-5f0708aa349b"
   },
   "outputs": [
    {
     "data": {
      "text/plain": [
       "<matplotlib.collections.PolyCollection at 0x7f27aeb04240>"
      ]
     },
     "execution_count": 148,
     "metadata": {
      "tags": []
     },
     "output_type": "execute_result"
    },
    {
     "data": {
      "image/png": "[encoded data removed]",
      "text/plain": [
       "<Figure size 432x288 with 1 Axes>"
      ]
     },
     "metadata": {
      "needs_background": "light",
      "tags": []
     },
     "output_type": "display_data"
    }
   ],
   "source": [
    "import mglearn\n",
    "scores1 = np.array(results_lin.mean_test_score).reshape(6, 6)\n",
    "\n",
    "mglearn.tools.heatmap(scores1, xlabel='gamma', xticklabels=param_grid['gamma'], ylabel='C', yticklabels=param_grid['C'], cmap=\"viridis\")"
   ]
  },
  {
   "cell_type": "markdown",
   "metadata": {
    "id": "lXwdtNqKKMXU"
   },
   "source": [
    "### Polynomial SVC Kernel using Grid Search"
   ]
  },
  {
   "cell_type": "code",
   "execution_count": 149,
   "metadata": {
    "colab": {
     "base_uri": "https://localhost:8080/",
     "height": 118
    },
    "id": "VC6OJ5rXpmC4",
    "outputId": "392c3d49-ac01-4773-c79a-908fd67afb89"
   },
   "outputs": [
    {
     "name": "stdout",
     "output_type": "stream",
     "text": [
      "Parameter grid:\n",
      "{'C': [0.001, 0.01, 0.1, 1, 10, 100], 'gamma': [0.001, 0.01, 0.1, 1, 10, 100]}\n",
      "Best parameters for kernel SVC Polynomial: {'C': 0.001, 'gamma': 1}\n",
      "Best cross-validation Score: 0.73\n",
      "R Square: 0.8048 \n",
      "MSE: 0.255\n"
     ]
    }
   ],
   "source": [
    "param_grid = {'C': [0.001, 0.01, 0.1, 1, 10, 100],\n",
    "              'gamma': [0.001, 0.01, 0.1, 1, 10, 100]}\n",
    "print(\"Parameter grid:\\n{}\".format(param_grid))\n",
    "\n",
    "grid_ker_poly = GridSearchCV(SVC(kernel = 'poly'), param_grid, cv = 5, return_train_score=True)\n",
    "grid_ker_poly.fit(X_train,y_train)\n",
    "\n",
    "print(\"Best parameters for kernel SVC Polynomial: {}\".format(grid_ker_poly.best_params_))\n",
    "print(\"Best cross-validation Score: {:.2f}\".format(grid_ker_poly.best_score_))\n",
    "prediction7 = grid_ker_poly.predict(X_test)\n",
    "print(\"R Square: {:.4f} \".format(metrics.r2_score(y_test,prediction7)))\n",
    "print(\"MSE:\",mean_squared_error(y_test, prediction7))"
   ]
  },
  {
   "cell_type": "markdown",
   "metadata": {
    "id": "0W8to7JSKUA7"
   },
   "source": [
    "Best parameters after running Linear Kernel grid search are: C = 0.001, gamma = 1.\n",
    "Best cross validation score we is 0.73"
   ]
  },
  {
   "cell_type": "code",
   "execution_count": 150,
   "metadata": {
    "colab": {
     "base_uri": "https://localhost:8080/",
     "height": 467
    },
    "id": "cDFDlMwcrcHa",
    "outputId": "457d1944-3587-422b-a242-bfa29b462fcf"
   },
   "outputs": [
    {
     "data": {
      "text/html": [
       "<div>\n",
       "<style scoped>\n",
       "    .dataframe tbody tr th:only-of-type {\n",
       "        vertical-align: middle;\n",
       "    }\n",
       "\n",
       "    .dataframe tbody tr th {\n",
       "        vertical-align: top;\n",
       "    }\n",
       "\n",
       "    .dataframe thead th {\n",
       "        text-align: right;\n",
       "    }\n",
       "</style>\n",
       "<table border=\"1\" class=\"dataframe\">\n",
       "  <thead>\n",
       "    <tr style=\"text-align: right;\">\n",
       "      <th></th>\n",
       "      <th>mean_fit_time</th>\n",
       "      <th>std_fit_time</th>\n",
       "      <th>mean_score_time</th>\n",
       "      <th>std_score_time</th>\n",
       "      <th>param_C</th>\n",
       "      <th>param_gamma</th>\n",
       "      <th>params</th>\n",
       "      <th>split0_test_score</th>\n",
       "      <th>split1_test_score</th>\n",
       "      <th>split2_test_score</th>\n",
       "      <th>split3_test_score</th>\n",
       "      <th>split4_test_score</th>\n",
       "      <th>mean_test_score</th>\n",
       "      <th>std_test_score</th>\n",
       "      <th>rank_test_score</th>\n",
       "      <th>split0_train_score</th>\n",
       "      <th>split1_train_score</th>\n",
       "      <th>split2_train_score</th>\n",
       "      <th>split3_train_score</th>\n",
       "      <th>split4_train_score</th>\n",
       "      <th>mean_train_score</th>\n",
       "      <th>std_train_score</th>\n",
       "    </tr>\n",
       "  </thead>\n",
       "  <tbody>\n",
       "    <tr>\n",
       "      <th>0</th>\n",
       "      <td>0.060524</td>\n",
       "      <td>0.001564</td>\n",
       "      <td>0.009401</td>\n",
       "      <td>0.000629</td>\n",
       "      <td>0.001</td>\n",
       "      <td>0.001</td>\n",
       "      <td>{'C': 0.001, 'gamma': 0.001}</td>\n",
       "      <td>0.253125</td>\n",
       "      <td>0.256250</td>\n",
       "      <td>0.256250</td>\n",
       "      <td>0.25625</td>\n",
       "      <td>0.256250</td>\n",
       "      <td>0.255625</td>\n",
       "      <td>0.001250</td>\n",
       "      <td>26</td>\n",
       "      <td>0.256250</td>\n",
       "      <td>0.255469</td>\n",
       "      <td>0.255469</td>\n",
       "      <td>0.255469</td>\n",
       "      <td>0.255469</td>\n",
       "      <td>0.255625</td>\n",
       "      <td>0.000312</td>\n",
       "    </tr>\n",
       "    <tr>\n",
       "      <th>1</th>\n",
       "      <td>0.058693</td>\n",
       "      <td>0.001456</td>\n",
       "      <td>0.008891</td>\n",
       "      <td>0.000202</td>\n",
       "      <td>0.001</td>\n",
       "      <td>0.01</td>\n",
       "      <td>{'C': 0.001, 'gamma': 0.01}</td>\n",
       "      <td>0.253125</td>\n",
       "      <td>0.256250</td>\n",
       "      <td>0.256250</td>\n",
       "      <td>0.25625</td>\n",
       "      <td>0.256250</td>\n",
       "      <td>0.255625</td>\n",
       "      <td>0.001250</td>\n",
       "      <td>26</td>\n",
       "      <td>0.256250</td>\n",
       "      <td>0.255469</td>\n",
       "      <td>0.255469</td>\n",
       "      <td>0.255469</td>\n",
       "      <td>0.255469</td>\n",
       "      <td>0.255625</td>\n",
       "      <td>0.000312</td>\n",
       "    </tr>\n",
       "    <tr>\n",
       "      <th>2</th>\n",
       "      <td>0.058338</td>\n",
       "      <td>0.000430</td>\n",
       "      <td>0.008779</td>\n",
       "      <td>0.000132</td>\n",
       "      <td>0.001</td>\n",
       "      <td>0.1</td>\n",
       "      <td>{'C': 0.001, 'gamma': 0.1}</td>\n",
       "      <td>0.253125</td>\n",
       "      <td>0.256250</td>\n",
       "      <td>0.256250</td>\n",
       "      <td>0.25625</td>\n",
       "      <td>0.256250</td>\n",
       "      <td>0.255625</td>\n",
       "      <td>0.001250</td>\n",
       "      <td>26</td>\n",
       "      <td>0.256250</td>\n",
       "      <td>0.255469</td>\n",
       "      <td>0.255469</td>\n",
       "      <td>0.255469</td>\n",
       "      <td>0.255469</td>\n",
       "      <td>0.255625</td>\n",
       "      <td>0.000312</td>\n",
       "    </tr>\n",
       "    <tr>\n",
       "      <th>3</th>\n",
       "      <td>0.074442</td>\n",
       "      <td>0.001504</td>\n",
       "      <td>0.007363</td>\n",
       "      <td>0.000089</td>\n",
       "      <td>0.001</td>\n",
       "      <td>1</td>\n",
       "      <td>{'C': 0.001, 'gamma': 1}</td>\n",
       "      <td>0.725000</td>\n",
       "      <td>0.728125</td>\n",
       "      <td>0.728125</td>\n",
       "      <td>0.68125</td>\n",
       "      <td>0.778125</td>\n",
       "      <td>0.728125</td>\n",
       "      <td>0.030682</td>\n",
       "      <td>1</td>\n",
       "      <td>0.999219</td>\n",
       "      <td>0.998437</td>\n",
       "      <td>0.999219</td>\n",
       "      <td>0.997656</td>\n",
       "      <td>0.999219</td>\n",
       "      <td>0.998750</td>\n",
       "      <td>0.000625</td>\n",
       "    </tr>\n",
       "    <tr>\n",
       "      <th>4</th>\n",
       "      <td>0.074485</td>\n",
       "      <td>0.001891</td>\n",
       "      <td>0.007295</td>\n",
       "      <td>0.000107</td>\n",
       "      <td>0.001</td>\n",
       "      <td>10</td>\n",
       "      <td>{'C': 0.001, 'gamma': 10}</td>\n",
       "      <td>0.718750</td>\n",
       "      <td>0.693750</td>\n",
       "      <td>0.725000</td>\n",
       "      <td>0.69375</td>\n",
       "      <td>0.753125</td>\n",
       "      <td>0.716875</td>\n",
       "      <td>0.022150</td>\n",
       "      <td>5</td>\n",
       "      <td>1.000000</td>\n",
       "      <td>1.000000</td>\n",
       "      <td>1.000000</td>\n",
       "      <td>1.000000</td>\n",
       "      <td>1.000000</td>\n",
       "      <td>1.000000</td>\n",
       "      <td>0.000000</td>\n",
       "    </tr>\n",
       "  </tbody>\n",
       "</table>\n",
       "</div>"
      ],
      "text/plain": [
       "   mean_fit_time  std_fit_time  ...  mean_train_score  std_train_score\n",
       "0       0.060524      0.001564  ...          0.255625         0.000312\n",
       "1       0.058693      0.001456  ...          0.255625         0.000312\n",
       "2       0.058338      0.000430  ...          0.255625         0.000312\n",
       "3       0.074442      0.001504  ...          0.998750         0.000625\n",
       "4       0.074485      0.001891  ...          1.000000         0.000000\n",
       "\n",
       "[5 rows x 22 columns]"
      ]
     },
     "metadata": {
      "tags": []
     },
     "output_type": "display_data"
    }
   ],
   "source": [
    "results_poly = pd.DataFrame(grid_ker_poly.cv_results_)\n",
    "# show the first 5 rows\n",
    "display(results_poly.head())"
   ]
  },
  {
   "cell_type": "markdown",
   "metadata": {
    "id": "vIl8CjF-Kbrs"
   },
   "source": [
    "### Below we are plotting a correlation graph between C and Gamma\n"
   ]
  },
  {
   "cell_type": "code",
   "execution_count": 151,
   "metadata": {
    "colab": {
     "base_uri": "https://localhost:8080/",
     "height": 296
    },
    "id": "JBx_9Wkwrgt2",
    "outputId": "7f6131e9-9901-4302-fea3-dbdaeb14b798"
   },
   "outputs": [
    {
     "data": {
      "text/plain": [
       "<matplotlib.collections.PolyCollection at 0x7f27aeaa6a90>"
      ]
     },
     "execution_count": 151,
     "metadata": {
      "tags": []
     },
     "output_type": "execute_result"
    },
    {
     "data": {
      "image/png": "[encoded data removed]",
      "text/plain": [
       "<Figure size 432x288 with 1 Axes>"
      ]
     },
     "metadata": {
      "needs_background": "light",
      "tags": []
     },
     "output_type": "display_data"
    }
   ],
   "source": [
    "import mglearn\n",
    "scores2 = np.array(results_poly.mean_test_score).reshape(6, 6)\n",
    "\n",
    "mglearn.tools.heatmap(scores2, xlabel='gamma', xticklabels=param_grid['gamma'], ylabel='C', yticklabels=param_grid['C'], cmap=\"viridis\")"
   ]
  },
  {
   "cell_type": "code",
   "execution_count": 156,
   "metadata": {
    "colab": {
     "base_uri": "https://localhost:8080/",
     "height": 134
    },
    "id": "iy5S58FJs2KX",
    "outputId": "5ee59c88-cb6c-4a40-b661-53f89c94dd5c"
   },
   "outputs": [
    {
     "name": "stdout",
     "output_type": "stream",
     "text": [
      "MSE KNN Classifier: 0.3175\n",
      "MSE LinearSVC:  0.1525\n",
      "MSE Logistic:  0.06\n",
      "MSE Decisiontree:  0.2\n",
      "MSE KernelRBF:  0.075\n",
      "MSE LinearK:  0.065\n",
      "MSE Poly: 0.255\n"
     ]
    }
   ],
   "source": [
    "print(\"MSE KNN Classifier:\",mean_squared_error(y_test, prediction))\n",
    "print('MSE LinearSVC: ',mean_squared_error(y_test,prediction2))\n",
    "print('MSE Logistic: ',mean_squared_error(y_test,prediction3))\n",
    "print('MSE Decisiontree: ',mean_squared_error(y_test,prediction4))\n",
    "print('MSE KernelRBF: ',mean_squared_error(y_test,prediction5))\n",
    "print('MSE LinearK: ',mean_squared_error(y_test,prediction6))\n",
    "print(\"MSE Poly:\",mean_squared_error(y_test, prediction7))\n"
   ]
  },
  {
   "cell_type": "code",
   "execution_count": 160,
   "metadata": {
    "colab": {
     "base_uri": "https://localhost:8080/",
     "height": 134
    },
    "id": "oEi0Ss2O82p4",
    "outputId": "30bfc48a-ff16-4d94-9f47-0c00bb829305"
   },
   "outputs": [
    {
     "name": "stdout",
     "output_type": "stream",
     "text": [
      "R Square KNN Classifier: 0.7570 \n",
      "R Square LinearSVC: 0.8833 \n",
      "R Square Logistic: 0.9541 \n",
      "R Square Decisiontree: 0.8469 \n",
      "R Square KernelRBF: 0.9426 \n",
      "R Square LinearK: 0.9502 \n",
      "R Square Poly: 0.8048 \n"
     ]
    }
   ],
   "source": [
    "print(\"R Square KNN Classifier: {:.4f} \".format(metrics.r2_score(y_test,prediction)))\n",
    "print('R Square LinearSVC: {:.4f} '.format(metrics.r2_score(y_test,prediction2)))\n",
    "print('R Square Logistic: {:.4f} '.format(metrics.r2_score(y_test,prediction3)))\n",
    "print('R Square Decisiontree: {:.4f} '.format(metrics.r2_score(y_test,prediction4)))\n",
    "print('R Square KernelRBF: {:.4f} '.format(metrics.r2_score(y_test,prediction5)))\n",
    "print('R Square LinearK: {:.4f} '.format(metrics.r2_score(y_test,prediction6)))\n",
    "print(\"R Square Poly: {:.4f} \".format(metrics.r2_score(y_test,prediction7)))"
   ]
  },
  {
   "cell_type": "code",
   "execution_count": 153,
   "metadata": {
    "id": "3EKvFi2UpeW3"
   },
   "outputs": [],
   "source": [
    "R2score_KNN = metrics.r2_score(y_test,prediction)\n",
    "R2score_LinearSVC = metrics.r2_score(y_test,prediction2)\n",
    "R2score_Logistic = metrics.r2_score(y_test,prediction3)\n",
    "R2score_Decisiontree = metrics.r2_score(y_test,prediction4)\n",
    "R2score_KernelRBF = metrics.r2_score(y_test,prediction5)\n",
    "R2score_LinearK = metrics.r2_score(y_test,prediction6)\n",
    "R2score_Poly = metrics.r2_score(y_test,prediction7)\n",
    "\n",
    "MSE_KNN = mean_squared_error(y_test,prediction)\n",
    "MSE_LinearSVC = mean_squared_error(y_test,prediction2)\n",
    "MSE_Logestic = mean_squared_error(y_test,prediction3)\n",
    "MSE_Decisiontree = mean_squared_error(y_test,prediction4)\n",
    "MSE_KernelRBF = mean_squared_error(y_test,prediction5)\n",
    "MSE_LinearK = mean_squared_error(y_test,prediction6)\n",
    "MSE_Poly = mean_squared_error(y_test,prediction7)"
   ]
  },
  {
   "cell_type": "code",
   "execution_count": 161,
   "metadata": {
    "colab": {
     "base_uri": "https://localhost:8080/",
     "height": 312
    },
    "id": "3i6TW0cmqoR3",
    "outputId": "a7f4f97b-dc14-435e-c9cc-64cc43d0cbb5"
   },
   "outputs": [
    {
     "data": {
      "text/plain": [
       "<Figure size 1440x720 with 0 Axes>"
      ]
     },
     "metadata": {
      "tags": []
     },
     "output_type": "display_data"
    },
    {
     "data": {
      "image/png": "[encoded data removed]",
      "text/plain": [
       "<Figure size 432x288 with 1 Axes>"
      ]
     },
     "metadata": {
      "needs_background": "light",
      "tags": []
     },
     "output_type": "display_data"
    }
   ],
   "source": [
    "plt.figure(figsize=(20,10))\n",
    "\n",
    "regs_i = 3\n",
    "R2score_fin = [R2score_Logistic, R2score_KernelRBF, R2score_LinearK]\n",
    "\n",
    "fig, ax = plt.subplots()\n",
    "index = np.arange(regs_i)\n",
    "bar_width = 0.4\n",
    "\n",
    "rects1 = plt.bar(index, R2score_fin, bar_width,\n",
    "                    color='r',\n",
    "                    label='R Square', align='center')\n",
    "\n",
    "plt.xlabel('Classification Models')\n",
    "plt.ylabel('R Square')\n",
    "plt.title('Best Classification Model')\n",
    "plt.xticks(index, ('Logestic','KernelRBF','LinearK'))\n",
    "plt.show()"
   ]
  },
  {
   "cell_type": "markdown",
   "metadata": {
    "id": "eJdoLKci-Urq"
   },
   "source": [
    "Although it is not very visible in the graph, the highest R Square value is for Logistic Softmax, followed by Kernel Linear and finally Kernel RBF"
   ]
  },
  {
   "cell_type": "code",
   "execution_count": 163,
   "metadata": {
    "colab": {
     "base_uri": "https://localhost:8080/",
     "height": 312
    },
    "id": "JXoHmaIK-j_9",
    "outputId": "380280dc-2f0e-43e6-8524-1de45ec9f675"
   },
   "outputs": [
    {
     "data": {
      "text/plain": [
       "<Figure size 1440x720 with 0 Axes>"
      ]
     },
     "metadata": {
      "tags": []
     },
     "output_type": "display_data"
    },
    {
     "data": {
      "image/png": "[encoded data removed]",
      "text/plain": [
       "<Figure size 432x288 with 1 Axes>"
      ]
     },
     "metadata": {
      "needs_background": "light",
      "tags": []
     },
     "output_type": "display_data"
    }
   ],
   "source": [
    "plt.figure(figsize=(20,10))\n",
    "\n",
    "regs_i = 3\n",
    "MSE_fin = [MSE_Logestic, MSE_KernelRBF, MSE_LinearK]\n",
    "\n",
    "fig, ax = plt.subplots()\n",
    "index = np.arange(regs_i)\n",
    "bar_width = 0.4\n",
    "\n",
    "rects1 = plt.bar(index, MSE_fin, bar_width,\n",
    "                    color='b',\n",
    "                    label='MSE', align='center')\n",
    "\n",
    "plt.xlabel('Classification Models')\n",
    "plt.ylabel('MSE')\n",
    "plt.title('Best Classification Model')\n",
    "plt.xticks(index, ('Logestic','KernelRBF','LinearK'))\n",
    "plt.show()"
   ]
  },
  {
   "cell_type": "markdown",
   "metadata": {
    "id": "gc8yGw7n-41W"
   },
   "source": [
    "From the graph we can see that the lowest MSE value is for Logistic Softmax, followed by Kernel Linear and finally Kernel RBF"
   ]
  },
  {
   "cell_type": "code",
   "execution_count": 164,
   "metadata": {
    "colab": {
     "base_uri": "https://localhost:8080/",
     "height": 84
    },
    "id": "XBvkKIjv_K6r",
    "outputId": "66fd670f-c1cd-45c4-cb8c-9782b095e73a"
   },
   "outputs": [
    {
     "name": "stdout",
     "output_type": "stream",
     "text": [
      "Train score: 0.9587\n",
      "Test score:  0.9400\n",
      "R Square: 0.9541 \n",
      "MSE: 0.06\n"
     ]
    }
   ],
   "source": [
    "best_classifier = LogisticRegression(multi_class=\"multinomial\",solver=\"lbfgs\", penalty ='l2', C = 100)\n",
    "\n",
    "best_classifier.fit(X_train,y_train)\n",
    "best_prediction = best_classifier.predict(X_test)\n",
    "\n",
    "print('Train score: {:.4f}'.format(best_classifier.score(X_train, y_train)))\n",
    "print('Test score:  {:.4f}'.format(best_classifier.score(X_test, y_test)))\n",
    "print(\"R Square: {:.4f} \".format(metrics.r2_score(y_test,best_prediction)))\n",
    "print(\"MSE:\",mean_squared_error(y_test, best_prediction))"
   ]
  },
  {
   "cell_type": "markdown",
   "metadata": {
    "id": "F1zhZIYpBejm"
   },
   "source": [
    "### Our best model is Logistic SoftMax with\n",
    "\n",
    "###Train score: 0.9587\n",
    "###Test score:  0.9400\n",
    "###R Square: 0.9541 \n",
    "###MSE: 0.06"
   ]
  }
 ],
 "metadata": {
  "accelerator": "TPU",
  "colab": {
   "name": "Project1_Classification_Group16_Dsouza_Bhatia.ipynb",
   "provenance": []
  },
  "kernelspec": {
   "display_name": "Python 3",
   "language": "python",
   "name": "python3"
  },
  "language_info": {
   "codemirror_mode": {
    "name": "ipython",
    "version": 3
   },
   "file_extension": ".py",
   "mimetype": "text/x-python",
   "name": "python",
   "nbconvert_exporter": "python",
   "pygments_lexer": "ipython3",
   "version": "3.7.4"
  }
 },
 "nbformat": 4,
 "nbformat_minor": 1
}
